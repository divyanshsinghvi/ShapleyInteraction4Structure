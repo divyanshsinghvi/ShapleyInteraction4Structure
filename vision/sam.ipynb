{
 "cells": [
  {
   "cell_type": "code",
   "execution_count": 21,
   "id": "24dd6f47-957b-40fd-ae82-484dea78f94a",
   "metadata": {},
   "outputs": [],
   "source": [
    "from segment_anything import SamPredictor, sam_model_registry, SamAutomaticMaskGenerator\n",
    "import cv2\n",
    "import numpy as np\n",
    "import matplotlib.pyplot as plt\n",
    "import math\n",
    "\n",
    "from transformers import AutoImageProcessor, ResNetForImageClassification\n",
    "import torch\n",
    "from datasets import load_dataset\n",
    "import copy"
   ]
  },
  {
   "cell_type": "code",
   "execution_count": 2,
   "id": "d6f5e42b-e34e-49a4-aa31-0a5724b95c8d",
   "metadata": {},
   "outputs": [
    {
     "name": "stderr",
     "output_type": "stream",
     "text": [
      "Found cached dataset cifar100 (/Users/andrejerkelens/.cache/huggingface/datasets/cifar100/cifar100/1.0.0/f365c8b725c23e8f0f8d725c3641234d9331cd2f62919d1381d1baa5b3ba3142)\n"
     ]
    }
   ],
   "source": [
    "dataset = load_dataset('cifar100', split='test')"
   ]
  },
  {
   "cell_type": "code",
   "execution_count": 3,
   "id": "8edf93d2-ba8f-47d1-9199-71d95ecbac9c",
   "metadata": {},
   "outputs": [],
   "source": [
    "def show_img(anns):\n",
    "    if len(anns) == 0:\n",
    "        return\n",
    "    sorted_anns = sorted(anns, key=(lambda x: x['area']), reverse=True)\n",
    "    ax = plt.gca()\n",
    "    ax.set_autoscale_on(False)\n",
    "\n",
    "    img = np.ones((sorted_anns[0]['segmentation'].shape[0], sorted_anns[0]['segmentation'].shape[1], 4))\n",
    "    img[:,:,3] = 0\n",
    "    for ann in sorted_anns:\n",
    "        m = ann['segmentation']\n",
    "        color_mask = np.concatenate([np.random.random(3), [0.35]])\n",
    "        img[m] = color_mask\n",
    "    ax.imshow(img)"
   ]
  },
  {
   "cell_type": "code",
   "execution_count": 4,
   "id": "a31ef881-721a-4a2a-87ae-7c3c71254c3f",
   "metadata": {},
   "outputs": [],
   "source": [
    "sam = sam_model_registry[\"default\"](checkpoint=\"sam_vit_h_4b8939.pth\")\n",
    "predictor = SamPredictor(sam)\n",
    "mask_generator = SamAutomaticMaskGenerator(sam)"
   ]
  },
  {
   "cell_type": "code",
   "execution_count": 5,
   "id": "bc0406a8-1b25-4688-a298-d7cd2c251517",
   "metadata": {},
   "outputs": [],
   "source": [
    "sample_image = dataset[1000]['img']"
   ]
  },
  {
   "cell_type": "code",
   "execution_count": 8,
   "id": "508a4931-9efe-493c-8337-039af6c85039",
   "metadata": {},
   "outputs": [],
   "source": [
    "sample_label = dataset[1000]['fine_label']"
   ]
  },
  {
   "cell_type": "code",
   "execution_count": 9,
   "id": "487bdb1a-2cb8-432e-bd19-8318430e46ce",
   "metadata": {},
   "outputs": [
    {
     "data": {
      "text/plain": [
       "65"
      ]
     },
     "execution_count": 9,
     "metadata": {},
     "output_type": "execute_result"
    }
   ],
   "source": [
    "sample_label"
   ]
  },
  {
   "cell_type": "code",
   "execution_count": 10,
   "id": "b80305ad-813e-4ec5-acd6-2b56e79bfc6b",
   "metadata": {},
   "outputs": [],
   "source": [
    "cv_image = np.array(sample_image)"
   ]
  },
  {
   "cell_type": "code",
   "execution_count": 11,
   "id": "cd3b270f-a3d4-4803-9d94-7e5d27e02edd",
   "metadata": {},
   "outputs": [
    {
     "data": {
      "image/png": "[encoded data removed]",
      "text/plain": [
       "<Figure size 72x72 with 1 Axes>"
      ]
     },
     "metadata": {
      "needs_background": "light"
     },
     "output_type": "display_data"
    }
   ],
   "source": [
    "plt.figure(figsize=(1,1))\n",
    "plt.imshow(cv_image)\n",
    "plt.axis(\"off\")\n",
    "plt.show()"
   ]
  },
  {
   "cell_type": "code",
   "execution_count": 12,
   "id": "4bcd5535-6d0d-40f6-adbb-b506f1df86a1",
   "metadata": {},
   "outputs": [],
   "source": [
    "masks = mask_generator.generate(cv_image)"
   ]
  },
  {
   "cell_type": "code",
   "execution_count": 13,
   "id": "62b3757b-15a8-47c5-ac1c-3663a7fb239e",
   "metadata": {},
   "outputs": [
    {
     "data": {
      "image/png": "[encoded data removed]",
      "text/plain": [
       "<Figure size 360x360 with 1 Axes>"
      ]
     },
     "metadata": {
      "needs_background": "light"
     },
     "output_type": "display_data"
    }
   ],
   "source": [
    "plt.figure(figsize=(5,5))\n",
    "plt.imshow(cv_image)\n",
    "show_img(masks)\n",
    "plt.axis('off')\n",
    "plt.show() "
   ]
  },
  {
   "cell_type": "markdown",
   "id": "a61570ea-f1f6-47b5-b408-43be7e172760",
   "metadata": {},
   "source": [
    "<b> Labels are currently wrong for tiny imagenet, though the predictions are correct (since they are in training set), I cannot currently find a mapping from tiny imagenet to regular imagenet so will have to assume the pred is correct </b>"
   ]
  },
  {
   "cell_type": "markdown",
   "id": "ca23cf9e-9b14-4d17-b081-d97618d6d4ff",
   "metadata": {},
   "source": [
    "<b> Q1: should i be using the OHE label or the logits? </b>"
   ]
  },
  {
   "cell_type": "code",
   "execution_count": 14,
   "id": "059773d3-cebd-4461-bab7-801b9045f6c6",
   "metadata": {},
   "outputs": [],
   "source": [
    "from transformers import AutoFeatureExtractor, AutoModelForImageClassification, ViTImageProcessor"
   ]
  },
  {
   "cell_type": "code",
   "execution_count": 15,
   "id": "e3cac985-3a81-4b4d-826e-75278956bad0",
   "metadata": {
    "scrolled": true
   },
   "outputs": [
    {
     "name": "stdout",
     "output_type": "stream",
     "text": [
      "rabbit\n"
     ]
    }
   ],
   "source": [
    "processor = ViTImageProcessor.from_pretrained(\"Ahmed9275/Vit-Cifar100\")\n",
    "classifier = AutoModelForImageClassification.from_pretrained(\"Ahmed9275/Vit-Cifar100\")\n",
    "\n",
    "inputs = processor(cv_image, return_tensors=\"pt\")\n",
    "\n",
    "with torch.no_grad():\n",
    "    logits = classifier(**inputs).logits\n",
    "\n",
    "# model predicts one of the 1000 ImageNet classes\n",
    "predicted_label = logits.argmax(-1).item()\n",
    "print(classifier.config.id2label[predicted_label])"
   ]
  },
  {
   "cell_type": "code",
   "execution_count": 16,
   "id": "23a0eeb7-6ce2-4a0b-98e6-f1151d417e8e",
   "metadata": {},
   "outputs": [
    {
     "data": {
      "text/plain": [
       "(32, 32, 3)"
      ]
     },
     "execution_count": 16,
     "metadata": {},
     "output_type": "execute_result"
    }
   ],
   "source": [
    "cv_image.shape"
   ]
  },
  {
   "cell_type": "markdown",
   "id": "a35e7735-94b0-419a-80c8-6a053850c13d",
   "metadata": {},
   "source": [
    "### Calculate Shapley Interactions"
   ]
  },
  {
   "cell_type": "code",
   "execution_count": 17,
   "id": "23afa877-8665-4abd-b010-3dab07bee20d",
   "metadata": {},
   "outputs": [],
   "source": [
    "height, width, channel = cv_image.shape"
   ]
  },
  {
   "cell_type": "code",
   "execution_count": 18,
   "id": "55cf8594-3bf2-4377-89f0-ba784eb8d9b3",
   "metadata": {},
   "outputs": [],
   "source": [
    "# logits\n",
    "# logits.softmax(dim=-1)"
   ]
  },
  {
   "cell_type": "code",
   "execution_count": 19,
   "id": "68998312-e304-47bb-a8f4-a88001eb9f94",
   "metadata": {},
   "outputs": [],
   "source": [
    "pairs = []\n",
    "for channel in range(channel):\n",
    "    for i in range(width):\n",
    "        for j in range(height):\n",
    "            for k in range(i, width):\n",
    "                for l in range(height):\n",
    "                    if k == i and l <= j:\n",
    "                        continue\n",
    "                    pairs.append(((j,i,channel), (j,i,channel)))"
   ]
  },
  {
   "cell_type": "code",
   "execution_count": 22,
   "id": "3db13139-e882-4394-bcc6-47661bb6abd5",
   "metadata": {},
   "outputs": [
    {
     "name": "stdout",
     "output_type": "stream",
     "text": [
      "1571328\n",
      "4717056\n"
     ]
    }
   ],
   "source": [
    "# If we go pairwise within each channel\n",
    "print(math.comb(32*32,2)*3)\n",
    "# if we go pairwise across all channels\n",
    "print(math.comb(3*32*32,2))\n",
    "# We will modify on the raw image dim to reduce number of pairs, vs altering the processed inputs via VIT pretrained"
   ]
  },
  {
   "cell_type": "code",
   "execution_count": 23,
   "id": "b862a573-395b-4002-8a14-ab22f6dd95a6",
   "metadata": {},
   "outputs": [],
   "source": [
    "assert len(pairs) == math.comb(height * width, 2) * 3"
   ]
  },
  {
   "cell_type": "code",
   "execution_count": 24,
   "id": "ac9a4038-3530-45f9-8d95-9e7e612f9c82",
   "metadata": {},
   "outputs": [],
   "source": [
    "reference_value = 0 # Can change this to noise/avg/ some other reference value\n",
    "cuda = False\n",
    "\n",
    "def get_shapval(p1, p2, img, instruction:str):\n",
    "    img1 = copy.deepcopy(img)\n",
    "\n",
    "    if instruction == \"a+b\":\n",
    "        pass\n",
    "    elif instruction == \"a\":\n",
    "        img1[p1] = reference_value\n",
    "    elif instruction == \"b\":\n",
    "        img1[p2] = reference_value\n",
    "    elif instruction == \"phi\":\n",
    "        img1[p1] = reference_value\n",
    "        img1[p2] = reference_value\n",
    "\n",
    "    inputs = processor(img1, return_tensors=\"pt\")\n",
    "        \n",
    "    with torch.no_grad():\n",
    "        logits = classifier(**inputs).logits\n",
    "\n",
    "    return logits.softmax(dim=-1)\n",
    "\n",
    "\n",
    "def get_interaction(pixel_pair, sample_image):\n",
    "\n",
    "    p1, p2 = pixel_pair\n",
    "    np_img = np.array(sample_image)\n",
    "\n",
    "    phi = get_shapval(p1, p2, np_img, \"phi\")\n",
    "    a = get_shapval(p1, p2, np_img, \"a\")\n",
    "    b = get_shapval(p1, p2, np_img, \"b\")\n",
    "    apb = get_shapval(p1, p2, np_img, \"a+b\")\n",
    "\n",
    "    val = apb - a - b + phi\n",
    "    \n",
    "    if cuda:\n",
    "        val = torch.linalg.norm(val, dim=-1).cpu()\n",
    "    else:\n",
    "        val = np.linalg.norm(val, axis=-1)\n",
    "    \n",
    "    return val"
   ]
  },
  {
   "cell_type": "code",
   "execution_count": 29,
   "id": "7369c15d-e393-4ba5-a7a3-3a6237e86526",
   "metadata": {},
   "outputs": [
    {
     "data": {
      "text/plain": [
       "1571328"
      ]
     },
     "execution_count": 29,
     "metadata": {},
     "output_type": "execute_result"
    }
   ],
   "source": [
    "len(pairs)"
   ]
  },
  {
   "cell_type": "code",
   "execution_count": null,
   "id": "31540ef8-b11e-4839-b4f4-ba128b12ef2d",
   "metadata": {},
   "outputs": [
    {
     "name": "stdout",
     "output_type": "stream",
     "text": [
      "Complete: 0\n"
     ]
    }
   ],
   "source": [
    "interactions = []\n",
    "num_pairs = len(pairs)\n",
    "\n",
    "for idx, pair in enumerate(pairs):\n",
    "    if idx%100000==0:\n",
    "        print(f\"Complete: {idx}\")\n",
    "    interactions.append(get_interaction(pair, sample_image))"
   ]
  },
  {
   "cell_type": "code",
   "execution_count": null,
   "id": "0e220d82-92a6-426f-9fd5-c00cde2e9bc5",
   "metadata": {},
   "outputs": [],
   "source": []
  },
  {
   "cell_type": "markdown",
   "id": "2b8cc356-24de-4f00-aae6-d3a01b255489",
   "metadata": {},
   "source": [
    "---\n",
    "\n",
    "### Calculate shapley residuals\n",
    "\n",
    "### Ignore\n",
    "\n",
    "\n",
    "\n"
   ]
  },
  {
   "cell_type": "code",
   "execution_count": 37,
   "id": "c3dfd08e-76e1-42c8-9dd8-378a5e86e2a1",
   "metadata": {},
   "outputs": [],
   "source": [
    "from torch.nn import CrossEntropyLoss"
   ]
  },
  {
   "cell_type": "code",
   "execution_count": 38,
   "id": "88a40dd2-0ce3-4e54-b217-f6324e61a833",
   "metadata": {},
   "outputs": [],
   "source": [
    "X = cv_image.copy()"
   ]
  },
  {
   "cell_type": "code",
   "execution_count": 39,
   "id": "185382e6-0148-4d50-8352-0803b87466ac",
   "metadata": {},
   "outputs": [],
   "source": [
    "_c, _w, _h = torch.squeeze(inputs['pixel_values']).shape"
   ]
  },
  {
   "cell_type": "code",
   "execution_count": 40,
   "id": "c2d76f83-80a6-443d-905b-2632f3afe114",
   "metadata": {},
   "outputs": [],
   "source": [
    "N_dim = _c * _w * _h"
   ]
  },
  {
   "cell_type": "markdown",
   "id": "07fe66b4-5113-45bd-b890-2eb00c459211",
   "metadata": {},
   "source": [
    "### Calculate shapley residual for each pixel? or calculate shapley residual for each patch?"
   ]
  },
  {
   "cell_type": "code",
   "execution_count": 42,
   "id": "c812b556-d876-4fc1-a0da-c551b2b0804b",
   "metadata": {},
   "outputs": [],
   "source": [
    "def generate_coalitions(N):\n",
    "    # Does not account for empty coalition\n",
    "    coalitions = []\n",
    "    for i in range(1, 2 ** N):\n",
    "        coalition = [j for j in range(N) if (i & (1 << j)) > 0]\n",
    "        coalitions.append(tuple(coalition))\n",
    "    return coalitions"
   ]
  },
  {
   "cell_type": "code",
   "execution_count": 182,
   "id": "37ef692d-e34a-4a57-848e-e784e595ffda",
   "metadata": {},
   "outputs": [
    {
     "ename": "TypeError",
     "evalue": "value_function() missing 1 required positional argument: 'label'",
     "output_type": "error",
     "traceback": [
      "\u001b[0;31m---------------------------------------------------------------------------\u001b[0m",
      "\u001b[0;31mTypeError\u001b[0m                                 Traceback (most recent call last)",
      "Cell \u001b[0;32mIn[182], line 42\u001b[0m\n\u001b[1;32m     39\u001b[0m     \u001b[38;5;28;01mreturn\u001b[39;00m shapley_residuals\n\u001b[1;32m     41\u001b[0m \u001b[38;5;66;03m# Example calculation for one image\u001b[39;00m\n\u001b[0;32m---> 42\u001b[0m shapley_res \u001b[38;5;241m=\u001b[39m shapley_residual(cv_image)\n\u001b[1;32m     43\u001b[0m \u001b[38;5;28mprint\u001b[39m(\u001b[38;5;124mf\u001b[39m\u001b[38;5;124m\"\u001b[39m\u001b[38;5;124mShapley Residuals for the image: \u001b[39m\u001b[38;5;132;01m{\u001b[39;00mshapley_res\u001b[38;5;132;01m}\u001b[39;00m\u001b[38;5;124m\"\u001b[39m)\n",
      "Cell \u001b[0;32mIn[182], line 36\u001b[0m, in \u001b[0;36mshapley_residual\u001b[0;34m(img)\u001b[0m\n\u001b[1;32m     34\u001b[0m \u001b[38;5;28;01mfor\u001b[39;00m i \u001b[38;5;129;01min\u001b[39;00m \u001b[38;5;28mrange\u001b[39m(N):\n\u001b[1;32m     35\u001b[0m     v_i \u001b[38;5;241m=\u001b[39m \u001b[38;5;241m10\u001b[39m  \u001b[38;5;66;03m# set initial value?\u001b[39;00m\n\u001b[0;32m---> 36\u001b[0m     d_i \u001b[38;5;241m=\u001b[39m d_i_v(i, img)\n\u001b[1;32m     37\u001b[0m     d_v \u001b[38;5;241m=\u001b[39m d_v_i(v_i, i, img)\n\u001b[1;32m     38\u001b[0m     shapley_residuals[i] \u001b[38;5;241m=\u001b[39m d_i \u001b[38;5;241m-\u001b[39m d_v\n",
      "Cell \u001b[0;32mIn[182], line 23\u001b[0m, in \u001b[0;36md_i_v\u001b[0;34m(i, img)\u001b[0m\n\u001b[1;32m     21\u001b[0m S_with \u001b[38;5;241m=\u001b[39m \u001b[38;5;28mset\u001b[39m(\u001b[38;5;28mrange\u001b[39m(img\u001b[38;5;241m.\u001b[39mshape[\u001b[38;5;241m1\u001b[39m])) \u001b[38;5;241m-\u001b[39m {i}\n\u001b[1;32m     22\u001b[0m S_without \u001b[38;5;241m=\u001b[39m S_with\n\u001b[0;32m---> 23\u001b[0m \u001b[38;5;28;01mreturn\u001b[39;00m value_function(S_with, img) \u001b[38;5;241m-\u001b[39m value_function(S_without, img)\n",
      "\u001b[0;31mTypeError\u001b[0m: value_function() missing 1 required positional argument: 'label'"
     ]
    }
   ],
   "source": [
    "# import numpy as np\n",
    "# from scipy.optimize import minimize\n",
    "# from itertools import combinations\n",
    "# import math\n",
    "\n",
    "# # Define value function v(S)\n",
    "# def value_function(S, img, label):\n",
    "#     temp_img = np.copy(img)\n",
    "#     # Zero out the pixels not in S\n",
    "#     # TODO: Decide if to 0 or add noises to pixels, may lead to different results, per https://arxiv.org/pdf/1704.02685.pdf\n",
    "#     temp_img[0, list(S)] = 0  \n",
    "#     inputs = processor(temp_img, return_tensors=\"pt\")\n",
    "#     with torch.no_grad():\n",
    "#         logits = classifier(**inputs).logits\n",
    "#     # prediction = logits.argmax(-1).item()\n",
    "#     return CrossEntropyLoss()(logits, torch.tensor([label])).detach().numpy()\n",
    "\n",
    "# def d_i_v(i, img):\n",
    "#     S_with = set(range(img.shape[1])) - {i}\n",
    "#     S_without = S_with\n",
    "#     return value_function(S_with, img) - value_function(S_without, img)\n",
    "\n",
    "# def d_v_i(v_i, i, img):\n",
    "#     objective = lambda v: np.linalg.norm(d_i_v(i, img) - v)\n",
    "#     res = minimize(objective, v_i, method=\"SLSQP\")\n",
    "#     return res.x[0]\n",
    "\n",
    "# # Compute Shapley residual for an image\n",
    "# def shapley_residual(img):\n",
    "#     N = img.shape[1]\n",
    "#     C,W,H  = torch.squeeze(processor(img, return_tensors=\"pt\")[\"pixel_values\"]).shape\n",
    "    \n",
    "#     shapley_residuals = np.zeros(C,W,H)\n",
    "#     for c in range(C):\n",
    "#         for w in range(W):\n",
    "#             for h in range(H):\n",
    "#                 v_i = 10  # set initial value?\n",
    "#                 d_i = d_i_v(i, img)\n",
    "#                 d_v = d_v_i(v_i, i, img)\n",
    "#                 shapley_residuals[c][w][h] = d_i - d_v\n",
    "#     return shapley_residuals\n",
    "\n",
    "# # Example calculation for one image\n",
    "# shapley_res = shapley_residual(cv_image)\n",
    "# print(f\"Shapley Residuals for the image: {shapley_res}\")"
   ]
  },
  {
   "cell_type": "code",
   "execution_count": null,
   "id": "463a09fb-3b99-4ffa-a582-5b7bcab29416",
   "metadata": {},
   "outputs": [],
   "source": []
  },
  {
   "cell_type": "markdown",
   "id": "9ba72741-1661-4f64-8d44-3a234d9182c4",
   "metadata": {},
   "source": [
    "<br></br>\n",
    "<br></br>\n",
    "<br></br>\n",
    "\n",
    "---\n"
   ]
  },
  {
   "cell_type": "code",
   "execution_count": null,
   "id": "dc298625-1623-45be-a752-7fbfd7ef8333",
   "metadata": {},
   "outputs": [],
   "source": []
  },
  {
   "cell_type": "code",
   "execution_count": null,
   "id": "f5f5c711-1834-47de-9fca-692c78cbc581",
   "metadata": {},
   "outputs": [],
   "source": []
  }
 ],
 "metadata": {
  "kernelspec": {
   "display_name": "shapleyres",
   "language": "python",
   "name": "shapleyres"
  },
  "language_info": {
   "codemirror_mode": {
    "name": "ipython",
    "version": 3
   },
   "file_extension": ".py",
   "mimetype": "text/x-python",
   "name": "python",
   "nbconvert_exporter": "python",
   "pygments_lexer": "ipython3",
   "version": "3.11.4"
  }
 },
 "nbformat": 4,
 "nbformat_minor": 5
}
