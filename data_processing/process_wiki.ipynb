{
 "cells": [
  {
   "cell_type": "code",
   "execution_count": 6,
   "id": "ccd9d056",
   "metadata": {
    "execution": {
     "iopub.execute_input": "2023-08-23T19:54:16.395897Z",
     "iopub.status.busy": "2023-08-23T19:54:16.395497Z",
     "iopub.status.idle": "2023-08-23T20:00:17.828758Z",
     "shell.execute_reply": "2023-08-23T20:00:17.827954Z",
     "shell.execute_reply.started": "2023-08-23T19:54:16.395849Z"
    },
    "scrolled": true
   },
   "outputs": [
    {
     "name": "stderr",
     "output_type": "stream",
     "text": [
      "Found cached dataset wikitext (/home/dsinghvi/.cache/huggingface/datasets/wikitext/wikitext-2-raw-v1/1.0.0/a241db52902eaf2c6aa732210bead40c090019a499ceb13bcbfa3f8ab646a126)\n"
     ]
    },
    {
     "data": {
      "application/vnd.jupyter.widget-view+json": {
       "model_id": "7ceb21fdf22c46848a7e256795e7a524",
       "version_major": 2,
       "version_minor": 0
      },
      "text/plain": [
       "  0%|          | 0/3 [00:00<?, ?it/s]"
      ]
     },
     "metadata": {},
     "output_type": "display_data"
    },
    {
     "name": "stdout",
     "output_type": "stream",
     "text": [
      "44836\n"
     ]
    }
   ],
   "source": [
    "# !source ./setup_spacy.sh\n",
    "import spacy\n",
    "from parse_dep import *\n",
    "import pandas as pd\n",
    "from datasets import load_dataset\n",
    "wiki = load_dataset(\"wikitext\", \"wikitext-2-raw-v1\")\n",
    "wiki_text = wiki['train']['text'] + wiki['test']['text'] + wiki['validation']['text']\n",
    "# abc[0]\n",
    "print(len(wiki_text))\n",
    "nlp = spacy.load(\"en_core_web_sm\")\n",
    "def parse_sentences_mwe(dataset):\n",
    "    lines = []\n",
    "    for d in dataset:\n",
    "        doc = nlp(d)\n",
    "        if doc:\n",
    "            for sent in doc.sents:\n",
    "                for word in sent:\n",
    "                    lines.append(f\"{word}\\t{word.pos_}\\n\")\n",
    "                lines.append(\"\\n\")\n",
    "    return lines\n",
    "parsed = parse_sentences_mwe(wiki_text)\n",
    "with open(\"wikitext_train\", \"w\") as example:\n",
    "    example.writelines(parsed)"
   ]
  },
  {
   "cell_type": "code",
   "execution_count": null,
   "id": "e627e1dc",
   "metadata": {
    "execution": {
     "iopub.status.busy": "2023-08-23T19:34:18.040764Z",
     "iopub.status.idle": "2023-08-23T19:34:18.041057Z",
     "shell.execute_reply": "2023-08-23T19:34:18.040944Z",
     "shell.execute_reply.started": "2023-08-23T19:34:18.040932Z"
    }
   },
   "outputs": [],
   "source": []
  },
  {
   "cell_type": "code",
   "execution_count": 4,
   "id": "d1d8ccf9",
   "metadata": {
    "execution": {
     "iopub.execute_input": "2023-08-23T19:54:03.034728Z",
     "iopub.status.busy": "2023-08-23T19:54:03.033959Z",
     "iopub.status.idle": "2023-08-23T19:54:03.049108Z",
     "shell.execute_reply": "2023-08-23T19:54:03.047967Z",
     "shell.execute_reply.started": "2023-08-23T19:54:03.034706Z"
    }
   },
   "outputs": [
    {
     "ename": "NameError",
     "evalue": "name 'wiki_text' is not defined",
     "output_type": "error",
     "traceback": [
      "\u001b[0;31m---------------------------------------------------------------------------\u001b[0m",
      "\u001b[0;31mNameError\u001b[0m                                 Traceback (most recent call last)",
      "Cell \u001b[0;32mIn[4], line 1\u001b[0m\n\u001b[0;32m----> 1\u001b[0m \u001b[38;5;28mlen\u001b[39m(\u001b[43mwiki_text\u001b[49m)\n",
      "\u001b[0;31mNameError\u001b[0m: name 'wiki_text' is not defined"
     ]
    }
   ],
   "source": []
  },
  {
   "cell_type": "code",
   "execution_count": null,
   "id": "22237329-27b9-4ad2-bb50-85dfef7fa252",
   "metadata": {},
   "outputs": [],
   "source": []
  }
 ],
 "metadata": {
  "kernelspec": {
   "display_name": "Python 3 (ipykernel)",
   "language": "python",
   "name": "python3"
  },
  "language_info": {
   "codemirror_mode": {
    "name": "ipython",
    "version": 3
   },
   "file_extension": ".py",
   "mimetype": "text/x-python",
   "name": "python",
   "nbconvert_exporter": "python",
   "pygments_lexer": "ipython3",
   "version": "3.8.16"
  }
 },
 "nbformat": 4,
 "nbformat_minor": 5
}
