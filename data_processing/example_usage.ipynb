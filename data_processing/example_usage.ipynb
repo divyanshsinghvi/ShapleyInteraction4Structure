{
 "cells": [
  {
   "cell_type": "code",
   "execution_count": 1,
   "id": "217c1761",
   "metadata": {},
   "outputs": [
    {
     "name": "stdout",
     "output_type": "stream",
     "text": [
      "Collecting en-core-web-sm==3.6.0\n",
      "  Downloading https://github.com/explosion/spacy-models/releases/download/en_core_web_sm-3.6.0/en_core_web_sm-3.6.0-py3-none-any.whl (12.8 MB)\n",
      "\u001b[2K     \u001b[38;2;114;156;31m━━━━━━━━━━━━━━━━━━━━━━━━━━━━━━━━━━━━━━━━\u001b[0m \u001b[32m12.8/12.8 MB\u001b[0m \u001b[31m13.4 MB/s\u001b[0m eta \u001b[36m0:00:00\u001b[0mm eta \u001b[36m0:00:01\u001b[0m[36m0:00:01\u001b[0m\n",
      "\u001b[?25hRequirement already satisfied: spacy<3.7.0,>=3.6.0 in /Users/andrejerkelens/miniforge3/envs/shapleyres/lib/python3.11/site-packages (from en-core-web-sm==3.6.0) (3.6.1)\n",
      "Requirement already satisfied: spacy-legacy<3.1.0,>=3.0.11 in /Users/andrejerkelens/miniforge3/envs/shapleyres/lib/python3.11/site-packages (from spacy<3.7.0,>=3.6.0->en-core-web-sm==3.6.0) (3.0.12)\n",
      "Requirement already satisfied: spacy-loggers<2.0.0,>=1.0.0 in /Users/andrejerkelens/miniforge3/envs/shapleyres/lib/python3.11/site-packages (from spacy<3.7.0,>=3.6.0->en-core-web-sm==3.6.0) (1.0.4)\n",
      "Requirement already satisfied: murmurhash<1.1.0,>=0.28.0 in /Users/andrejerkelens/miniforge3/envs/shapleyres/lib/python3.11/site-packages (from spacy<3.7.0,>=3.6.0->en-core-web-sm==3.6.0) (1.0.9)\n",
      "Requirement already satisfied: cymem<2.1.0,>=2.0.2 in /Users/andrejerkelens/miniforge3/envs/shapleyres/lib/python3.11/site-packages (from spacy<3.7.0,>=3.6.0->en-core-web-sm==3.6.0) (2.0.7)\n",
      "Requirement already satisfied: preshed<3.1.0,>=3.0.2 in /Users/andrejerkelens/miniforge3/envs/shapleyres/lib/python3.11/site-packages (from spacy<3.7.0,>=3.6.0->en-core-web-sm==3.6.0) (3.0.8)\n",
      "Requirement already satisfied: thinc<8.2.0,>=8.1.8 in /Users/andrejerkelens/miniforge3/envs/shapleyres/lib/python3.11/site-packages (from spacy<3.7.0,>=3.6.0->en-core-web-sm==3.6.0) (8.1.10)\n",
      "Requirement already satisfied: wasabi<1.2.0,>=0.9.1 in /Users/andrejerkelens/miniforge3/envs/shapleyres/lib/python3.11/site-packages (from spacy<3.7.0,>=3.6.0->en-core-web-sm==3.6.0) (1.1.2)\n",
      "Requirement already satisfied: srsly<3.0.0,>=2.4.3 in /Users/andrejerkelens/miniforge3/envs/shapleyres/lib/python3.11/site-packages (from spacy<3.7.0,>=3.6.0->en-core-web-sm==3.6.0) (2.4.6)\n",
      "Requirement already satisfied: catalogue<2.1.0,>=2.0.6 in /Users/andrejerkelens/miniforge3/envs/shapleyres/lib/python3.11/site-packages (from spacy<3.7.0,>=3.6.0->en-core-web-sm==3.6.0) (2.0.8)\n",
      "Requirement already satisfied: typer<0.10.0,>=0.3.0 in /Users/andrejerkelens/miniforge3/envs/shapleyres/lib/python3.11/site-packages (from spacy<3.7.0,>=3.6.0->en-core-web-sm==3.6.0) (0.9.0)\n",
      "Requirement already satisfied: pathy>=0.10.0 in /Users/andrejerkelens/miniforge3/envs/shapleyres/lib/python3.11/site-packages (from spacy<3.7.0,>=3.6.0->en-core-web-sm==3.6.0) (0.10.2)\n",
      "Requirement already satisfied: smart-open<7.0.0,>=5.2.1 in /Users/andrejerkelens/miniforge3/envs/shapleyres/lib/python3.11/site-packages (from spacy<3.7.0,>=3.6.0->en-core-web-sm==3.6.0) (6.3.0)\n",
      "Requirement already satisfied: tqdm<5.0.0,>=4.38.0 in /Users/andrejerkelens/miniforge3/envs/shapleyres/lib/python3.11/site-packages (from spacy<3.7.0,>=3.6.0->en-core-web-sm==3.6.0) (4.65.0)\n",
      "Requirement already satisfied: numpy>=1.15.0 in /Users/andrejerkelens/miniforge3/envs/shapleyres/lib/python3.11/site-packages (from spacy<3.7.0,>=3.6.0->en-core-web-sm==3.6.0) (1.24.4)\n",
      "Requirement already satisfied: requests<3.0.0,>=2.13.0 in /Users/andrejerkelens/miniforge3/envs/shapleyres/lib/python3.11/site-packages (from spacy<3.7.0,>=3.6.0->en-core-web-sm==3.6.0) (2.29.0)\n",
      "Requirement already satisfied: pydantic!=1.8,!=1.8.1,<3.0.0,>=1.7.4 in /Users/andrejerkelens/miniforge3/envs/shapleyres/lib/python3.11/site-packages (from spacy<3.7.0,>=3.6.0->en-core-web-sm==3.6.0) (1.10.11)\n",
      "Requirement already satisfied: jinja2 in /Users/andrejerkelens/miniforge3/envs/shapleyres/lib/python3.11/site-packages (from spacy<3.7.0,>=3.6.0->en-core-web-sm==3.6.0) (3.1.2)\n",
      "Requirement already satisfied: setuptools in /Users/andrejerkelens/miniforge3/envs/shapleyres/lib/python3.11/site-packages (from spacy<3.7.0,>=3.6.0->en-core-web-sm==3.6.0) (68.1.2)\n",
      "Requirement already satisfied: packaging>=20.0 in /Users/andrejerkelens/miniforge3/envs/shapleyres/lib/python3.11/site-packages (from spacy<3.7.0,>=3.6.0->en-core-web-sm==3.6.0) (21.3)\n",
      "Requirement already satisfied: langcodes<4.0.0,>=3.2.0 in /Users/andrejerkelens/miniforge3/envs/shapleyres/lib/python3.11/site-packages (from spacy<3.7.0,>=3.6.0->en-core-web-sm==3.6.0) (3.3.0)\n",
      "Requirement already satisfied: pyparsing!=3.0.5,>=2.0.2 in /Users/andrejerkelens/miniforge3/envs/shapleyres/lib/python3.11/site-packages (from packaging>=20.0->spacy<3.7.0,>=3.6.0->en-core-web-sm==3.6.0) (3.0.4)\n",
      "Requirement already satisfied: typing-extensions>=4.2.0 in /Users/andrejerkelens/miniforge3/envs/shapleyres/lib/python3.11/site-packages (from pydantic!=1.8,!=1.8.1,<3.0.0,>=1.7.4->spacy<3.7.0,>=3.6.0->en-core-web-sm==3.6.0) (4.6.3)\n",
      "Requirement already satisfied: charset-normalizer<4,>=2 in /Users/andrejerkelens/miniforge3/envs/shapleyres/lib/python3.11/site-packages (from requests<3.0.0,>=2.13.0->spacy<3.7.0,>=3.6.0->en-core-web-sm==3.6.0) (2.0.4)\n",
      "Requirement already satisfied: idna<4,>=2.5 in /Users/andrejerkelens/miniforge3/envs/shapleyres/lib/python3.11/site-packages (from requests<3.0.0,>=2.13.0->spacy<3.7.0,>=3.6.0->en-core-web-sm==3.6.0) (3.4)\n",
      "Requirement already satisfied: urllib3<1.27,>=1.21.1 in /Users/andrejerkelens/miniforge3/envs/shapleyres/lib/python3.11/site-packages (from requests<3.0.0,>=2.13.0->spacy<3.7.0,>=3.6.0->en-core-web-sm==3.6.0) (1.26.16)\n",
      "Requirement already satisfied: certifi>=2017.4.17 in /Users/andrejerkelens/miniforge3/envs/shapleyres/lib/python3.11/site-packages (from requests<3.0.0,>=2.13.0->spacy<3.7.0,>=3.6.0->en-core-web-sm==3.6.0) (2023.5.7)\n",
      "Requirement already satisfied: blis<0.8.0,>=0.7.8 in /Users/andrejerkelens/miniforge3/envs/shapleyres/lib/python3.11/site-packages (from thinc<8.2.0,>=8.1.8->spacy<3.7.0,>=3.6.0->en-core-web-sm==3.6.0) (0.7.9)\n",
      "Requirement already satisfied: confection<1.0.0,>=0.0.1 in /Users/andrejerkelens/miniforge3/envs/shapleyres/lib/python3.11/site-packages (from thinc<8.2.0,>=8.1.8->spacy<3.7.0,>=3.6.0->en-core-web-sm==3.6.0) (0.1.0)\n",
      "Requirement already satisfied: click<9.0.0,>=7.1.1 in /Users/andrejerkelens/miniforge3/envs/shapleyres/lib/python3.11/site-packages (from typer<0.10.0,>=0.3.0->spacy<3.7.0,>=3.6.0->en-core-web-sm==3.6.0) (8.1.4)\n",
      "Requirement already satisfied: MarkupSafe>=2.0 in /Users/andrejerkelens/miniforge3/envs/shapleyres/lib/python3.11/site-packages (from jinja2->spacy<3.7.0,>=3.6.0->en-core-web-sm==3.6.0) (2.1.1)\n",
      "\u001b[38;5;2m✔ Download and installation successful\u001b[0m\n",
      "You can now load the package via spacy.load('en_core_web_sm')\n"
     ]
    }
   ],
   "source": [
    "!source ./setup_spacy.sh"
   ]
  },
  {
   "cell_type": "code",
   "execution_count": 2,
   "id": "00515556",
   "metadata": {},
   "outputs": [
    {
     "name": "stderr",
     "output_type": "stream",
     "text": [
      "None of PyTorch, TensorFlow >= 2.0, or Flax have been found. Models won't be available and only tokenizers, configuration and file/data utilities can be used.\n"
     ]
    }
   ],
   "source": [
    "from parse_dep import *\n",
    "import pandas as pd\n",
    "from spacy import displacy"
   ]
  },
  {
   "cell_type": "code",
   "execution_count": 3,
   "id": "9e960bd6",
   "metadata": {},
   "outputs": [],
   "source": [
    "from datasets import load_dataset"
   ]
  },
  {
   "cell_type": "code",
   "execution_count": 4,
   "id": "da16254c",
   "metadata": {},
   "outputs": [
    {
     "name": "stderr",
     "output_type": "stream",
     "text": [
      "Found cached dataset wikipedia (/Users/andrejerkelens/.cache/huggingface/datasets/wikipedia/20220301.en/2.0.0/aa542ed919df55cc5d3347f42dd4521d05ca68751f50dbc32bae2a7f1e167559)\n"
     ]
    },
    {
     "data": {
      "application/vnd.jupyter.widget-view+json": {
       "model_id": "43f1598d6aff47c59bf3cc19d322df94",
       "version_major": 2,
       "version_minor": 0
      },
      "text/plain": [
       "  0%|          | 0/1 [00:00<?, ?it/s]"
      ]
     },
     "metadata": {},
     "output_type": "display_data"
    }
   ],
   "source": [
    "wiki_data = load_dataset(\"wikipedia\", \"20220301.en\")"
   ]
  },
  {
   "cell_type": "code",
   "execution_count": 5,
   "id": "558f2a35",
   "metadata": {},
   "outputs": [],
   "source": [
    "nlp = get_spacy_pipeline()"
   ]
  },
  {
   "cell_type": "code",
   "execution_count": 6,
   "id": "777de632",
   "metadata": {},
   "outputs": [],
   "source": [
    "# This is how we can read in the data from the conllulex repo\n",
    "train_df = pd.read_json('datasets/streusle.ud_train.json')\n",
    "dev_df = pd.read_json('datasets/streusle.ud_dev.json')\n",
    "test_df = pd.read_json('datasets/streusle.ud_test.json')"
   ]
  },
  {
   "cell_type": "code",
   "execution_count": 7,
   "id": "1237640c",
   "metadata": {},
   "outputs": [
    {
     "name": "stdout",
     "output_type": "stream",
     "text": [
      "S ocrates Ġasked Ġthe Ġstudent Ġtrick Ġquestions \n"
     ]
    }
   ],
   "source": [
    "# Example from LSTMs compose and learn bottom up\n",
    "doc = nlp(\"Socrates asked the student trick questions\")\n",
    "print(doc)"
   ]
  },
  {
   "cell_type": "code",
   "execution_count": 12,
   "id": "6df12824",
   "metadata": {},
   "outputs": [],
   "source": [
    "# Get the dependencies\n",
    "train_df['dependencies'] = train_df.apply(lambda x: parse_dependencies(nlp, x['text'], index=True), axis=1)"
   ]
  },
  {
   "cell_type": "code",
   "execution_count": 13,
   "id": "73ad13e4",
   "metadata": {},
   "outputs": [
    {
     "data": {
      "text/plain": [
       "0    {'B': 'npadvmod', 'illing': 'amod', 'ĠIssues':...\n",
       "1    {'I': 'nsubj', 'Ġhad': 'ROOT', 'Ġa': 'dobj', '...\n",
       "2    {'My': 'poss', 'Ġinsurance': 'compound', 'Ġcom...\n",
       "3    {'Then': 'advmod', 'ĠI': 'compound', 'Ġgot': '...\n",
       "4    {'The': 'det', 'Ġdoctor': 'poss', ''s': 'case'...\n",
       "5    {'Blue': 'compound', 'Ġcross': 'compound', 'Ġh...\n",
       "6    {'The': 'det', 'Ġoffice': 'npadvmod', 'Ġrefuse...\n",
       "7    {'They': 'nsubj', 'Ġeventually': 'advmod', 'Ġt...\n",
       "8    {'I': 'nmod', 'Ġeventually': 'advmod', 'Ġdecid...\n",
       "9    {'It': 'nsubj', 'Ġwas': 'ROOT', 'Ġan': 'ROOT',...\n",
       "Name: dependencies, dtype: object"
      ]
     },
     "execution_count": 13,
     "metadata": {},
     "output_type": "execute_result"
    }
   ],
   "source": [
    "train_df['dependencies'].head(10)"
   ]
  },
  {
   "cell_type": "code",
   "execution_count": 10,
   "id": "4011a27a",
   "metadata": {
    "scrolled": true
   },
   "outputs": [
    {
     "data": {
      "text/plain": [
       "(Ġasked Ġthe Ġstudent,)"
      ]
     },
     "execution_count": 10,
     "metadata": {},
     "output_type": "execute_result"
    }
   ],
   "source": [
    "doc.ents"
   ]
  },
  {
   "cell_type": "code",
   "execution_count": 11,
   "id": "86afe1d9",
   "metadata": {},
   "outputs": [
    {
     "name": "stdout",
     "output_type": "stream",
     "text": [
      "['S', 'O', '']\n",
      "['ocrates', 'O', '']\n",
      "['Ġasked', 'B', 'ORG']\n",
      "['Ġthe', 'I', 'ORG']\n",
      "['Ġstudent', 'I', 'ORG']\n",
      "['Ġtrick', 'O', '']\n",
      "['Ġquestions', 'O', '']\n"
     ]
    }
   ],
   "source": [
    "for e in doc:\n",
    "    print([e.text, e.ent_iob_, e.ent_type_])"
   ]
  },
  {
   "cell_type": "code",
   "execution_count": 12,
   "id": "8fd03689",
   "metadata": {
    "scrolled": true
   },
   "outputs": [
    {
     "name": "stdout",
     "output_type": "stream",
     "text": [
      "[('Ġasked Ġthe Ġstudent', 10, 30, 'ORG')]\n"
     ]
    }
   ],
   "source": [
    "ents = [(e.text, e.start_char, e.end_char, e.label_) for e in doc.ents]\n",
    "print(ents)"
   ]
  },
  {
   "cell_type": "code",
   "execution_count": 13,
   "id": "b1a00282",
   "metadata": {},
   "outputs": [
    {
     "data": {
      "text/html": [
       "<div>\n",
       "<style scoped>\n",
       "    .dataframe tbody tr th:only-of-type {\n",
       "        vertical-align: middle;\n",
       "    }\n",
       "\n",
       "    .dataframe tbody tr th {\n",
       "        vertical-align: top;\n",
       "    }\n",
       "\n",
       "    .dataframe thead th {\n",
       "        text-align: right;\n",
       "    }\n",
       "</style>\n",
       "<table border=\"1\" class=\"dataframe\">\n",
       "  <thead>\n",
       "    <tr style=\"text-align: right;\">\n",
       "      <th></th>\n",
       "      <th>sent_id</th>\n",
       "      <th>text</th>\n",
       "      <th>streusle_sent_id</th>\n",
       "      <th>mwe</th>\n",
       "      <th>toks</th>\n",
       "      <th>etoks</th>\n",
       "      <th>swes</th>\n",
       "      <th>smwes</th>\n",
       "      <th>wmwes</th>\n",
       "    </tr>\n",
       "  </thead>\n",
       "  <tbody>\n",
       "    <tr>\n",
       "      <th>0</th>\n",
       "      <td>reviews-003418-0001</td>\n",
       "      <td>Billing Issues...</td>\n",
       "      <td>ewtb.r.003418.1</td>\n",
       "      <td>Billing Issues ...</td>\n",
       "      <td>[{'#': 1, 'word': 'Billing', 'lemma': 'billing...</td>\n",
       "      <td>[]</td>\n",
       "      <td>{'1': {'lexlemma': 'billing', 'lexcat': 'N', '...</td>\n",
       "      <td>{}</td>\n",
       "      <td>{}</td>\n",
       "    </tr>\n",
       "    <tr>\n",
       "      <th>1</th>\n",
       "      <td>reviews-003418-0002</td>\n",
       "      <td>I had a routine surgery for an ingrown toenail.</td>\n",
       "      <td>ewtb.r.003418.2</td>\n",
       "      <td>I had_ a routine _surgery for an ingrown_toena...</td>\n",
       "      <td>[{'#': 1, 'word': 'I', 'lemma': 'I', 'upos': '...</td>\n",
       "      <td>[]</td>\n",
       "      <td>{'1': {'lexlemma': 'I', 'lexcat': 'PRON', 'ss'...</td>\n",
       "      <td>{'1': {'lexlemma': 'have surgery', 'lexcat': '...</td>\n",
       "      <td>{}</td>\n",
       "    </tr>\n",
       "    <tr>\n",
       "      <th>2</th>\n",
       "      <td>reviews-003418-0003</td>\n",
       "      <td>My insurance company, Blue Cross/Blue Shield p...</td>\n",
       "      <td>ewtb.r.003418.3</td>\n",
       "      <td>My insurance company , Blue_Cross_/_Blue_Shiel...</td>\n",
       "      <td>[{'#': 1, 'word': 'My', 'lemma': 'my', 'upos':...</td>\n",
       "      <td>[]</td>\n",
       "      <td>{'1': {'lexlemma': 'my', 'lexcat': 'PRON.POSS'...</td>\n",
       "      <td>{'1': {'lexlemma': 'Blue Cross / Blue Shield',...</td>\n",
       "      <td>{}</td>\n",
       "    </tr>\n",
       "    <tr>\n",
       "      <th>3</th>\n",
       "      <td>reviews-003418-0004</td>\n",
       "      <td>Then I got a bill for $483.00.</td>\n",
       "      <td>ewtb.r.003418.4</td>\n",
       "      <td>Then I got~ a ~bill for $ 483.00 .</td>\n",
       "      <td>[{'#': 1, 'word': 'Then', 'lemma': 'then', 'up...</td>\n",
       "      <td>[]</td>\n",
       "      <td>{'1': {'lexlemma': 'then', 'lexcat': 'ADV', 's...</td>\n",
       "      <td>{}</td>\n",
       "      <td>{'1': {'lexlemma': 'get bill', 'toknums': [3, ...</td>\n",
       "    </tr>\n",
       "    <tr>\n",
       "      <th>4</th>\n",
       "      <td>reviews-003418-0005</td>\n",
       "      <td>The doctor's office said that payments had bee...</td>\n",
       "      <td>ewtb.r.003418.5</td>\n",
       "      <td>The doctor_'s_office said that payments had be...</td>\n",
       "      <td>[{'#': 1, 'word': 'The', 'lemma': 'the', 'upos...</td>\n",
       "      <td>[{'#': [2, 3, '2-3'], 'word': 'doctor's', 'lem...</td>\n",
       "      <td>{'1': {'lexlemma': 'the', 'lexcat': 'DET', 'ss...</td>\n",
       "      <td>{'1': {'lexlemma': 'doctor 's office', 'lexcat...</td>\n",
       "      <td>{}</td>\n",
       "    </tr>\n",
       "    <tr>\n",
       "      <th>5</th>\n",
       "      <td>reviews-003418-0006</td>\n",
       "      <td>Blue cross has no record of aa reversal.</td>\n",
       "      <td>ewtb.r.003418.6</td>\n",
       "      <td>Blue_cross has no record of aa reversal .</td>\n",
       "      <td>[{'#': 1, 'word': 'Blue', 'lemma': 'Blue', 'up...</td>\n",
       "      <td>[]</td>\n",
       "      <td>{'3': {'lexlemma': 'have', 'lexcat': 'V', 'ss'...</td>\n",
       "      <td>{'1': {'lexlemma': 'Blue cross', 'lexcat': 'N'...</td>\n",
       "      <td>{}</td>\n",
       "    </tr>\n",
       "    <tr>\n",
       "      <th>6</th>\n",
       "      <td>reviews-003418-0007</td>\n",
       "      <td>The office refused my requests to see what the...</td>\n",
       "      <td>ewtb.r.003418.7</td>\n",
       "      <td>The office refused my requests to see what the...</td>\n",
       "      <td>[{'#': 1, 'word': 'The', 'lemma': 'the', 'upos...</td>\n",
       "      <td>[]</td>\n",
       "      <td>{'1': {'lexlemma': 'the', 'lexcat': 'DET', 'ss...</td>\n",
       "      <td>{'1': {'lexlemma': 'BC / BS', 'lexcat': 'N', '...</td>\n",
       "      <td>{}</td>\n",
       "    </tr>\n",
       "    <tr>\n",
       "      <th>7</th>\n",
       "      <td>reviews-003418-0008</td>\n",
       "      <td>They eventually turned it over to a collection...</td>\n",
       "      <td>ewtb.r.003418.8</td>\n",
       "      <td>They eventually turned_ it _over to a collecti...</td>\n",
       "      <td>[{'#': 1, 'word': 'They', 'lemma': 'they', 'up...</td>\n",
       "      <td>[]</td>\n",
       "      <td>{'1': {'lexlemma': 'they', 'lexcat': 'PRON', '...</td>\n",
       "      <td>{'1': {'lexlemma': 'turn over', 'lexcat': 'V.V...</td>\n",
       "      <td>{'3': {'lexlemma': 'discuss the matter', 'tokn...</td>\n",
       "    </tr>\n",
       "    <tr>\n",
       "      <th>8</th>\n",
       "      <td>reviews-003418-0009</td>\n",
       "      <td>I eventually decided to just pay the balance e...</td>\n",
       "      <td>ewtb.r.003418.9</td>\n",
       "      <td>I eventually decided to just pay the balance e...</td>\n",
       "      <td>[{'#': 1, 'word': 'I', 'lemma': 'I', 'upos': '...</td>\n",
       "      <td>[]</td>\n",
       "      <td>{'1': {'lexlemma': 'I', 'lexcat': 'PRON', 'ss'...</td>\n",
       "      <td>{'1': {'lexlemma': 'even though', 'lexcat': 'S...</td>\n",
       "      <td>{}</td>\n",
       "    </tr>\n",
       "    <tr>\n",
       "      <th>9</th>\n",
       "      <td>reviews-003418-0010</td>\n",
       "      <td>It was an ingrown toenail.</td>\n",
       "      <td>ewtb.r.003418.10</td>\n",
       "      <td>It was an ingrown_toenail .</td>\n",
       "      <td>[{'#': 1, 'word': 'It', 'lemma': 'it', 'upos':...</td>\n",
       "      <td>[]</td>\n",
       "      <td>{'1': {'lexlemma': 'it', 'lexcat': 'PRON', 'ss...</td>\n",
       "      <td>{'1': {'lexlemma': 'ingrown toenail', 'lexcat'...</td>\n",
       "      <td>{}</td>\n",
       "    </tr>\n",
       "  </tbody>\n",
       "</table>\n",
       "</div>"
      ],
      "text/plain": [
       "               sent_id                                               text  \\\n",
       "0  reviews-003418-0001                                  Billing Issues...   \n",
       "1  reviews-003418-0002    I had a routine surgery for an ingrown toenail.   \n",
       "2  reviews-003418-0003  My insurance company, Blue Cross/Blue Shield p...   \n",
       "3  reviews-003418-0004                     Then I got a bill for $483.00.   \n",
       "4  reviews-003418-0005  The doctor's office said that payments had bee...   \n",
       "5  reviews-003418-0006           Blue cross has no record of aa reversal.   \n",
       "6  reviews-003418-0007  The office refused my requests to see what the...   \n",
       "7  reviews-003418-0008  They eventually turned it over to a collection...   \n",
       "8  reviews-003418-0009  I eventually decided to just pay the balance e...   \n",
       "9  reviews-003418-0010                         It was an ingrown toenail.   \n",
       "\n",
       "   streusle_sent_id                                                mwe  \\\n",
       "0   ewtb.r.003418.1                                 Billing Issues ...   \n",
       "1   ewtb.r.003418.2  I had_ a routine _surgery for an ingrown_toena...   \n",
       "2   ewtb.r.003418.3  My insurance company , Blue_Cross_/_Blue_Shiel...   \n",
       "3   ewtb.r.003418.4                 Then I got~ a ~bill for $ 483.00 .   \n",
       "4   ewtb.r.003418.5  The doctor_'s_office said that payments had be...   \n",
       "5   ewtb.r.003418.6          Blue_cross has no record of aa reversal .   \n",
       "6   ewtb.r.003418.7  The office refused my requests to see what the...   \n",
       "7   ewtb.r.003418.8  They eventually turned_ it _over to a collecti...   \n",
       "8   ewtb.r.003418.9  I eventually decided to just pay the balance e...   \n",
       "9  ewtb.r.003418.10                        It was an ingrown_toenail .   \n",
       "\n",
       "                                                toks  \\\n",
       "0  [{'#': 1, 'word': 'Billing', 'lemma': 'billing...   \n",
       "1  [{'#': 1, 'word': 'I', 'lemma': 'I', 'upos': '...   \n",
       "2  [{'#': 1, 'word': 'My', 'lemma': 'my', 'upos':...   \n",
       "3  [{'#': 1, 'word': 'Then', 'lemma': 'then', 'up...   \n",
       "4  [{'#': 1, 'word': 'The', 'lemma': 'the', 'upos...   \n",
       "5  [{'#': 1, 'word': 'Blue', 'lemma': 'Blue', 'up...   \n",
       "6  [{'#': 1, 'word': 'The', 'lemma': 'the', 'upos...   \n",
       "7  [{'#': 1, 'word': 'They', 'lemma': 'they', 'up...   \n",
       "8  [{'#': 1, 'word': 'I', 'lemma': 'I', 'upos': '...   \n",
       "9  [{'#': 1, 'word': 'It', 'lemma': 'it', 'upos':...   \n",
       "\n",
       "                                               etoks  \\\n",
       "0                                                 []   \n",
       "1                                                 []   \n",
       "2                                                 []   \n",
       "3                                                 []   \n",
       "4  [{'#': [2, 3, '2-3'], 'word': 'doctor's', 'lem...   \n",
       "5                                                 []   \n",
       "6                                                 []   \n",
       "7                                                 []   \n",
       "8                                                 []   \n",
       "9                                                 []   \n",
       "\n",
       "                                                swes  \\\n",
       "0  {'1': {'lexlemma': 'billing', 'lexcat': 'N', '...   \n",
       "1  {'1': {'lexlemma': 'I', 'lexcat': 'PRON', 'ss'...   \n",
       "2  {'1': {'lexlemma': 'my', 'lexcat': 'PRON.POSS'...   \n",
       "3  {'1': {'lexlemma': 'then', 'lexcat': 'ADV', 's...   \n",
       "4  {'1': {'lexlemma': 'the', 'lexcat': 'DET', 'ss...   \n",
       "5  {'3': {'lexlemma': 'have', 'lexcat': 'V', 'ss'...   \n",
       "6  {'1': {'lexlemma': 'the', 'lexcat': 'DET', 'ss...   \n",
       "7  {'1': {'lexlemma': 'they', 'lexcat': 'PRON', '...   \n",
       "8  {'1': {'lexlemma': 'I', 'lexcat': 'PRON', 'ss'...   \n",
       "9  {'1': {'lexlemma': 'it', 'lexcat': 'PRON', 'ss...   \n",
       "\n",
       "                                               smwes  \\\n",
       "0                                                 {}   \n",
       "1  {'1': {'lexlemma': 'have surgery', 'lexcat': '...   \n",
       "2  {'1': {'lexlemma': 'Blue Cross / Blue Shield',...   \n",
       "3                                                 {}   \n",
       "4  {'1': {'lexlemma': 'doctor 's office', 'lexcat...   \n",
       "5  {'1': {'lexlemma': 'Blue cross', 'lexcat': 'N'...   \n",
       "6  {'1': {'lexlemma': 'BC / BS', 'lexcat': 'N', '...   \n",
       "7  {'1': {'lexlemma': 'turn over', 'lexcat': 'V.V...   \n",
       "8  {'1': {'lexlemma': 'even though', 'lexcat': 'S...   \n",
       "9  {'1': {'lexlemma': 'ingrown toenail', 'lexcat'...   \n",
       "\n",
       "                                               wmwes  \n",
       "0                                                 {}  \n",
       "1                                                 {}  \n",
       "2                                                 {}  \n",
       "3  {'1': {'lexlemma': 'get bill', 'toknums': [3, ...  \n",
       "4                                                 {}  \n",
       "5                                                 {}  \n",
       "6                                                 {}  \n",
       "7  {'3': {'lexlemma': 'discuss the matter', 'tokn...  \n",
       "8                                                 {}  \n",
       "9                                                 {}  "
      ]
     },
     "execution_count": 13,
     "metadata": {},
     "output_type": "execute_result"
    }
   ],
   "source": [
    "train_df.head(10)"
   ]
  },
  {
   "cell_type": "code",
   "execution_count": 9,
   "id": "248266c2",
   "metadata": {},
   "outputs": [
    {
     "data": {
      "text/html": [
       "<span class=\"tex2jax_ignore\"><svg xmlns=\"http://www.w3.org/2000/svg\" xmlns:xlink=\"http://www.w3.org/1999/xlink\" xml:lang=\"en\" id=\"8498010d6f2c4cd7af2220734251294d-0\" class=\"displacy\" width=\"750\" height=\"337.0\" direction=\"ltr\" style=\"max-width: none; height: 337.0px; color: #000000; background: #ffffff; font-family: Arial; direction: ltr\">\n",
       "<text class=\"displacy-token\" fill=\"currentColor\" text-anchor=\"middle\" y=\"247.0\">\n",
       "    <tspan class=\"displacy-word\" fill=\"currentColor\" x=\"50\">S</tspan>\n",
       "    <tspan class=\"displacy-tag\" dy=\"2em\" fill=\"currentColor\" x=\"50\">PROPN</tspan>\n",
       "</text>\n",
       "\n",
       "<text class=\"displacy-token\" fill=\"currentColor\" text-anchor=\"middle\" y=\"247.0\">\n",
       "    <tspan class=\"displacy-word\" fill=\"currentColor\" x=\"150\">ocrates</tspan>\n",
       "    <tspan class=\"displacy-tag\" dy=\"2em\" fill=\"currentColor\" x=\"150\">VERB</tspan>\n",
       "</text>\n",
       "\n",
       "<text class=\"displacy-token\" fill=\"currentColor\" text-anchor=\"middle\" y=\"247.0\">\n",
       "    <tspan class=\"displacy-word\" fill=\"currentColor\" x=\"250\">Ġasked</tspan>\n",
       "    <tspan class=\"displacy-tag\" dy=\"2em\" fill=\"currentColor\" x=\"250\">PROPN</tspan>\n",
       "</text>\n",
       "\n",
       "<text class=\"displacy-token\" fill=\"currentColor\" text-anchor=\"middle\" y=\"247.0\">\n",
       "    <tspan class=\"displacy-word\" fill=\"currentColor\" x=\"350\">Ġthe</tspan>\n",
       "    <tspan class=\"displacy-tag\" dy=\"2em\" fill=\"currentColor\" x=\"350\">PROPN</tspan>\n",
       "</text>\n",
       "\n",
       "<text class=\"displacy-token\" fill=\"currentColor\" text-anchor=\"middle\" y=\"247.0\">\n",
       "    <tspan class=\"displacy-word\" fill=\"currentColor\" x=\"450\">Ġstudent</tspan>\n",
       "    <tspan class=\"displacy-tag\" dy=\"2em\" fill=\"currentColor\" x=\"450\">PROPN</tspan>\n",
       "</text>\n",
       "\n",
       "<text class=\"displacy-token\" fill=\"currentColor\" text-anchor=\"middle\" y=\"247.0\">\n",
       "    <tspan class=\"displacy-word\" fill=\"currentColor\" x=\"550\">Ġtrick</tspan>\n",
       "    <tspan class=\"displacy-tag\" dy=\"2em\" fill=\"currentColor\" x=\"550\">PROPN</tspan>\n",
       "</text>\n",
       "\n",
       "<text class=\"displacy-token\" fill=\"currentColor\" text-anchor=\"middle\" y=\"247.0\">\n",
       "    <tspan class=\"displacy-word\" fill=\"currentColor\" x=\"650\">Ġquestions</tspan>\n",
       "    <tspan class=\"displacy-tag\" dy=\"2em\" fill=\"currentColor\" x=\"650\">PROPN</tspan>\n",
       "</text>\n",
       "\n",
       "<g class=\"displacy-arrow\">\n",
       "    <path class=\"displacy-arc\" id=\"arrow-8498010d6f2c4cd7af2220734251294d-0-0\" stroke-width=\"2px\" d=\"M62,202.0 62,185.33333333333334 141.0,185.33333333333334 141.0,202.0\" fill=\"none\" stroke=\"currentColor\"/>\n",
       "    <text dy=\"1.25em\" style=\"font-size: 0.8em; letter-spacing: 1px\">\n",
       "        <textPath xlink:href=\"#arrow-8498010d6f2c4cd7af2220734251294d-0-0\" class=\"displacy-label\" startOffset=\"50%\" side=\"left\" fill=\"currentColor\" text-anchor=\"middle\">nsubj</textPath>\n",
       "    </text>\n",
       "    <path class=\"displacy-arrowhead\" d=\"M62,204.0 L58,196.0 66,196.0\" fill=\"currentColor\"/>\n",
       "</g>\n",
       "\n",
       "<g class=\"displacy-arrow\">\n",
       "    <path class=\"displacy-arc\" id=\"arrow-8498010d6f2c4cd7af2220734251294d-0-1\" stroke-width=\"2px\" d=\"M262,202.0 262,152.0 647.0,152.0 647.0,202.0\" fill=\"none\" stroke=\"currentColor\"/>\n",
       "    <text dy=\"1.25em\" style=\"font-size: 0.8em; letter-spacing: 1px\">\n",
       "        <textPath xlink:href=\"#arrow-8498010d6f2c4cd7af2220734251294d-0-1\" class=\"displacy-label\" startOffset=\"50%\" side=\"left\" fill=\"currentColor\" text-anchor=\"middle\">compound</textPath>\n",
       "    </text>\n",
       "    <path class=\"displacy-arrowhead\" d=\"M262,204.0 L258,196.0 266,196.0\" fill=\"currentColor\"/>\n",
       "</g>\n",
       "\n",
       "<g class=\"displacy-arrow\">\n",
       "    <path class=\"displacy-arc\" id=\"arrow-8498010d6f2c4cd7af2220734251294d-0-2\" stroke-width=\"2px\" d=\"M362,202.0 362,168.66666666666666 544.0,168.66666666666666 544.0,202.0\" fill=\"none\" stroke=\"currentColor\"/>\n",
       "    <text dy=\"1.25em\" style=\"font-size: 0.8em; letter-spacing: 1px\">\n",
       "        <textPath xlink:href=\"#arrow-8498010d6f2c4cd7af2220734251294d-0-2\" class=\"displacy-label\" startOffset=\"50%\" side=\"left\" fill=\"currentColor\" text-anchor=\"middle\">compound</textPath>\n",
       "    </text>\n",
       "    <path class=\"displacy-arrowhead\" d=\"M362,204.0 L358,196.0 366,196.0\" fill=\"currentColor\"/>\n",
       "</g>\n",
       "\n",
       "<g class=\"displacy-arrow\">\n",
       "    <path class=\"displacy-arc\" id=\"arrow-8498010d6f2c4cd7af2220734251294d-0-3\" stroke-width=\"2px\" d=\"M462,202.0 462,185.33333333333334 541.0,185.33333333333334 541.0,202.0\" fill=\"none\" stroke=\"currentColor\"/>\n",
       "    <text dy=\"1.25em\" style=\"font-size: 0.8em; letter-spacing: 1px\">\n",
       "        <textPath xlink:href=\"#arrow-8498010d6f2c4cd7af2220734251294d-0-3\" class=\"displacy-label\" startOffset=\"50%\" side=\"left\" fill=\"currentColor\" text-anchor=\"middle\">compound</textPath>\n",
       "    </text>\n",
       "    <path class=\"displacy-arrowhead\" d=\"M462,204.0 L458,196.0 466,196.0\" fill=\"currentColor\"/>\n",
       "</g>\n",
       "\n",
       "<g class=\"displacy-arrow\">\n",
       "    <path class=\"displacy-arc\" id=\"arrow-8498010d6f2c4cd7af2220734251294d-0-4\" stroke-width=\"2px\" d=\"M562,202.0 562,185.33333333333334 641.0,185.33333333333334 641.0,202.0\" fill=\"none\" stroke=\"currentColor\"/>\n",
       "    <text dy=\"1.25em\" style=\"font-size: 0.8em; letter-spacing: 1px\">\n",
       "        <textPath xlink:href=\"#arrow-8498010d6f2c4cd7af2220734251294d-0-4\" class=\"displacy-label\" startOffset=\"50%\" side=\"left\" fill=\"currentColor\" text-anchor=\"middle\">compound</textPath>\n",
       "    </text>\n",
       "    <path class=\"displacy-arrowhead\" d=\"M562,204.0 L558,196.0 566,196.0\" fill=\"currentColor\"/>\n",
       "</g>\n",
       "\n",
       "<g class=\"displacy-arrow\">\n",
       "    <path class=\"displacy-arc\" id=\"arrow-8498010d6f2c4cd7af2220734251294d-0-5\" stroke-width=\"2px\" d=\"M162,202.0 162,135.33333333333331 650.0,135.33333333333331 650.0,202.0\" fill=\"none\" stroke=\"currentColor\"/>\n",
       "    <text dy=\"1.25em\" style=\"font-size: 0.8em; letter-spacing: 1px\">\n",
       "        <textPath xlink:href=\"#arrow-8498010d6f2c4cd7af2220734251294d-0-5\" class=\"displacy-label\" startOffset=\"50%\" side=\"left\" fill=\"currentColor\" text-anchor=\"middle\">dobj</textPath>\n",
       "    </text>\n",
       "    <path class=\"displacy-arrowhead\" d=\"M650.0,204.0 L654.0,196.0 646.0,196.0\" fill=\"currentColor\"/>\n",
       "</g>\n",
       "</svg></span>"
      ],
      "text/plain": [
       "<IPython.core.display.HTML object>"
      ]
     },
     "metadata": {},
     "output_type": "display_data"
    }
   ],
   "source": [
    "displacy.render(doc, style='dep', options={'compact': True, 'distance': 100})"
   ]
  },
  {
   "cell_type": "code",
   "execution_count": 9,
   "id": "02d0d1eb",
   "metadata": {
    "scrolled": true
   },
   "outputs": [
    {
     "data": {
      "text/plain": [
       "{(0, 1): 1,\n",
       " (0, 2): 3,\n",
       " (0, 3): 4,\n",
       " (0, 4): 4,\n",
       " (0, 5): 3,\n",
       " (0, 6): 2,\n",
       " (1, 2): 2,\n",
       " (1, 3): 3,\n",
       " (1, 4): 3,\n",
       " (1, 5): 2,\n",
       " (1, 6): 1,\n",
       " (2, 3): 3,\n",
       " (2, 4): 3,\n",
       " (2, 5): 2,\n",
       " (2, 6): 1,\n",
       " (3, 4): 2,\n",
       " (3, 5): 1,\n",
       " (3, 6): 2,\n",
       " (4, 5): 1,\n",
       " (4, 6): 2,\n",
       " (5, 6): 1}"
      ]
     },
     "execution_count": 9,
     "metadata": {},
     "output_type": "execute_result"
    }
   ],
   "source": [
    "get_syntactic_distance(doc, index=True)"
   ]
  },
  {
   "cell_type": "code",
   "execution_count": 11,
   "id": "6ad89c12",
   "metadata": {},
   "outputs": [
    {
     "data": {
      "text/plain": [
       "{(S, ocrates): 1,\n",
       " (S, Ġasked): 3,\n",
       " (S, Ġthe): 4,\n",
       " (S, Ġstudent): 4,\n",
       " (S, Ġtrick): 3,\n",
       " (S, Ġquestions): 2,\n",
       " (ocrates, Ġasked): 2,\n",
       " (ocrates, Ġthe): 3,\n",
       " (ocrates, Ġstudent): 3,\n",
       " (ocrates, Ġtrick): 2,\n",
       " (ocrates, Ġquestions): 1,\n",
       " (Ġasked, Ġthe): 3,\n",
       " (Ġasked, Ġstudent): 3,\n",
       " (Ġasked, Ġtrick): 2,\n",
       " (Ġasked, Ġquestions): 1,\n",
       " (Ġthe, Ġstudent): 2,\n",
       " (Ġthe, Ġtrick): 1,\n",
       " (Ġthe, Ġquestions): 2,\n",
       " (Ġstudent, Ġtrick): 1,\n",
       " (Ġstudent, Ġquestions): 2,\n",
       " (Ġtrick, Ġquestions): 1}"
      ]
     },
     "execution_count": 11,
     "metadata": {},
     "output_type": "execute_result"
    }
   ],
   "source": [
    "get_syntactic_distance(doc, index=False)"
   ]
  },
  {
   "cell_type": "code",
   "execution_count": null,
   "id": "b2aee55a",
   "metadata": {},
   "outputs": [],
   "source": []
  }
 ],
 "metadata": {
  "kernelspec": {
   "display_name": "shapleyres",
   "language": "python",
   "name": "shapleyres"
  },
  "language_info": {
   "codemirror_mode": {
    "name": "ipython",
    "version": 3
   },
   "file_extension": ".py",
   "mimetype": "text/x-python",
   "name": "python",
   "nbconvert_exporter": "python",
   "pygments_lexer": "ipython3",
   "version": "3.11.4"
  }
 },
 "nbformat": 4,
 "nbformat_minor": 5
}
