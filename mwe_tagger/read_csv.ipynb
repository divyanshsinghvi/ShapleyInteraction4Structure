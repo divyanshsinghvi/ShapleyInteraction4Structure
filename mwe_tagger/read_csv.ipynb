{
 "cells": [
  {
   "cell_type": "code",
   "execution_count": 1,
   "id": "a62a58fc",
   "metadata": {
    "scrolled": true
   },
   "outputs": [
    {
     "name": "stdout",
     "output_type": "stream",
     "text": [
      "Collecting en-core-web-sm==3.6.0\n",
      "  Downloading https://github.com/explosion/spacy-models/releases/download/en_core_web_sm-3.6.0/en_core_web_sm-3.6.0-py3-none-any.whl (12.8 MB)\n",
      "\u001b[2K     \u001b[38;2;114;156;31m━━━━━━━━━━━━━━━━━━━━━━━━━━━━━━━━━━━━━━━━\u001b[0m \u001b[32m12.8/12.8 MB\u001b[0m \u001b[31m10.5 MB/s\u001b[0m eta \u001b[36m0:00:00\u001b[0mm eta \u001b[36m0:00:01\u001b[0m[36m0:00:01\u001b[0m\n",
      "\u001b[?25hRequirement already satisfied: spacy<3.7.0,>=3.6.0 in /Users/andrejerkelens/miniforge3/envs/shapleyres/lib/python3.11/site-packages (from en-core-web-sm==3.6.0) (3.6.1)\n",
      "Requirement already satisfied: spacy-legacy<3.1.0,>=3.0.11 in /Users/andrejerkelens/miniforge3/envs/shapleyres/lib/python3.11/site-packages (from spacy<3.7.0,>=3.6.0->en-core-web-sm==3.6.0) (3.0.12)\n",
      "Requirement already satisfied: spacy-loggers<2.0.0,>=1.0.0 in /Users/andrejerkelens/miniforge3/envs/shapleyres/lib/python3.11/site-packages (from spacy<3.7.0,>=3.6.0->en-core-web-sm==3.6.0) (1.0.4)\n",
      "Requirement already satisfied: murmurhash<1.1.0,>=0.28.0 in /Users/andrejerkelens/miniforge3/envs/shapleyres/lib/python3.11/site-packages (from spacy<3.7.0,>=3.6.0->en-core-web-sm==3.6.0) (1.0.9)\n",
      "Requirement already satisfied: cymem<2.1.0,>=2.0.2 in /Users/andrejerkelens/miniforge3/envs/shapleyres/lib/python3.11/site-packages (from spacy<3.7.0,>=3.6.0->en-core-web-sm==3.6.0) (2.0.7)\n",
      "Requirement already satisfied: preshed<3.1.0,>=3.0.2 in /Users/andrejerkelens/miniforge3/envs/shapleyres/lib/python3.11/site-packages (from spacy<3.7.0,>=3.6.0->en-core-web-sm==3.6.0) (3.0.8)\n",
      "Requirement already satisfied: thinc<8.2.0,>=8.1.8 in /Users/andrejerkelens/miniforge3/envs/shapleyres/lib/python3.11/site-packages (from spacy<3.7.0,>=3.6.0->en-core-web-sm==3.6.0) (8.1.10)\n",
      "Requirement already satisfied: wasabi<1.2.0,>=0.9.1 in /Users/andrejerkelens/miniforge3/envs/shapleyres/lib/python3.11/site-packages (from spacy<3.7.0,>=3.6.0->en-core-web-sm==3.6.0) (1.1.2)\n",
      "Requirement already satisfied: srsly<3.0.0,>=2.4.3 in /Users/andrejerkelens/miniforge3/envs/shapleyres/lib/python3.11/site-packages (from spacy<3.7.0,>=3.6.0->en-core-web-sm==3.6.0) (2.4.6)\n",
      "Requirement already satisfied: catalogue<2.1.0,>=2.0.6 in /Users/andrejerkelens/miniforge3/envs/shapleyres/lib/python3.11/site-packages (from spacy<3.7.0,>=3.6.0->en-core-web-sm==3.6.0) (2.0.8)\n",
      "Requirement already satisfied: typer<0.10.0,>=0.3.0 in /Users/andrejerkelens/miniforge3/envs/shapleyres/lib/python3.11/site-packages (from spacy<3.7.0,>=3.6.0->en-core-web-sm==3.6.0) (0.9.0)\n",
      "Requirement already satisfied: pathy>=0.10.0 in /Users/andrejerkelens/miniforge3/envs/shapleyres/lib/python3.11/site-packages (from spacy<3.7.0,>=3.6.0->en-core-web-sm==3.6.0) (0.10.2)\n",
      "Requirement already satisfied: smart-open<7.0.0,>=5.2.1 in /Users/andrejerkelens/miniforge3/envs/shapleyres/lib/python3.11/site-packages (from spacy<3.7.0,>=3.6.0->en-core-web-sm==3.6.0) (6.3.0)\n",
      "Requirement already satisfied: tqdm<5.0.0,>=4.38.0 in /Users/andrejerkelens/miniforge3/envs/shapleyres/lib/python3.11/site-packages (from spacy<3.7.0,>=3.6.0->en-core-web-sm==3.6.0) (4.65.0)\n",
      "Requirement already satisfied: numpy>=1.15.0 in /Users/andrejerkelens/miniforge3/envs/shapleyres/lib/python3.11/site-packages (from spacy<3.7.0,>=3.6.0->en-core-web-sm==3.6.0) (1.24.4)\n",
      "Requirement already satisfied: requests<3.0.0,>=2.13.0 in /Users/andrejerkelens/miniforge3/envs/shapleyres/lib/python3.11/site-packages (from spacy<3.7.0,>=3.6.0->en-core-web-sm==3.6.0) (2.29.0)\n",
      "Requirement already satisfied: pydantic!=1.8,!=1.8.1,<3.0.0,>=1.7.4 in /Users/andrejerkelens/miniforge3/envs/shapleyres/lib/python3.11/site-packages (from spacy<3.7.0,>=3.6.0->en-core-web-sm==3.6.0) (1.10.11)\n",
      "Requirement already satisfied: jinja2 in /Users/andrejerkelens/miniforge3/envs/shapleyres/lib/python3.11/site-packages (from spacy<3.7.0,>=3.6.0->en-core-web-sm==3.6.0) (3.1.2)\n",
      "Requirement already satisfied: setuptools in /Users/andrejerkelens/miniforge3/envs/shapleyres/lib/python3.11/site-packages (from spacy<3.7.0,>=3.6.0->en-core-web-sm==3.6.0) (68.1.2)\n",
      "Requirement already satisfied: packaging>=20.0 in /Users/andrejerkelens/miniforge3/envs/shapleyres/lib/python3.11/site-packages (from spacy<3.7.0,>=3.6.0->en-core-web-sm==3.6.0) (21.3)\n",
      "Requirement already satisfied: langcodes<4.0.0,>=3.2.0 in /Users/andrejerkelens/miniforge3/envs/shapleyres/lib/python3.11/site-packages (from spacy<3.7.0,>=3.6.0->en-core-web-sm==3.6.0) (3.3.0)\n",
      "Requirement already satisfied: pyparsing!=3.0.5,>=2.0.2 in /Users/andrejerkelens/miniforge3/envs/shapleyres/lib/python3.11/site-packages (from packaging>=20.0->spacy<3.7.0,>=3.6.0->en-core-web-sm==3.6.0) (3.0.4)\n",
      "Requirement already satisfied: typing-extensions>=4.2.0 in /Users/andrejerkelens/miniforge3/envs/shapleyres/lib/python3.11/site-packages (from pydantic!=1.8,!=1.8.1,<3.0.0,>=1.7.4->spacy<3.7.0,>=3.6.0->en-core-web-sm==3.6.0) (4.6.3)\n",
      "Requirement already satisfied: charset-normalizer<4,>=2 in /Users/andrejerkelens/miniforge3/envs/shapleyres/lib/python3.11/site-packages (from requests<3.0.0,>=2.13.0->spacy<3.7.0,>=3.6.0->en-core-web-sm==3.6.0) (2.0.4)\n",
      "Requirement already satisfied: idna<4,>=2.5 in /Users/andrejerkelens/miniforge3/envs/shapleyres/lib/python3.11/site-packages (from requests<3.0.0,>=2.13.0->spacy<3.7.0,>=3.6.0->en-core-web-sm==3.6.0) (3.4)\n",
      "Requirement already satisfied: urllib3<1.27,>=1.21.1 in /Users/andrejerkelens/miniforge3/envs/shapleyres/lib/python3.11/site-packages (from requests<3.0.0,>=2.13.0->spacy<3.7.0,>=3.6.0->en-core-web-sm==3.6.0) (1.26.16)\n",
      "Requirement already satisfied: certifi>=2017.4.17 in /Users/andrejerkelens/miniforge3/envs/shapleyres/lib/python3.11/site-packages (from requests<3.0.0,>=2.13.0->spacy<3.7.0,>=3.6.0->en-core-web-sm==3.6.0) (2023.5.7)\n",
      "Requirement already satisfied: blis<0.8.0,>=0.7.8 in /Users/andrejerkelens/miniforge3/envs/shapleyres/lib/python3.11/site-packages (from thinc<8.2.0,>=8.1.8->spacy<3.7.0,>=3.6.0->en-core-web-sm==3.6.0) (0.7.9)\n",
      "Requirement already satisfied: confection<1.0.0,>=0.0.1 in /Users/andrejerkelens/miniforge3/envs/shapleyres/lib/python3.11/site-packages (from thinc<8.2.0,>=8.1.8->spacy<3.7.0,>=3.6.0->en-core-web-sm==3.6.0) (0.1.0)\n",
      "Requirement already satisfied: click<9.0.0,>=7.1.1 in /Users/andrejerkelens/miniforge3/envs/shapleyres/lib/python3.11/site-packages (from typer<0.10.0,>=0.3.0->spacy<3.7.0,>=3.6.0->en-core-web-sm==3.6.0) (8.1.4)\n",
      "Requirement already satisfied: MarkupSafe>=2.0 in /Users/andrejerkelens/miniforge3/envs/shapleyres/lib/python3.11/site-packages (from jinja2->spacy<3.7.0,>=3.6.0->en-core-web-sm==3.6.0) (2.1.1)\n",
      "\u001b[38;5;2m✔ Download and installation successful\u001b[0m\n",
      "You can now load the package via spacy.load('en_core_web_sm')\n"
     ]
    }
   ],
   "source": [
    "!../data_processing/setup_spacy.sh"
   ]
  },
  {
   "cell_type": "code",
   "execution_count": 2,
   "id": "cac23d31",
   "metadata": {},
   "outputs": [
    {
     "name": "stderr",
     "output_type": "stream",
     "text": [
      "None of PyTorch, TensorFlow >= 2.0, or Flax have been found. Models won't be available and only tokenizers, configuration and file/data utilities can be used.\n"
     ]
    }
   ],
   "source": [
    "import sys; sys.path.append('../data_processing/')\n",
    "import pandas as pd\n",
    "from parse_dep import *\n",
    "import re\n",
    "from ast import literal_eval\n",
    "import tokenizations\n",
    "from datasets import load_dataset"
   ]
  },
  {
   "cell_type": "code",
   "execution_count": 3,
   "id": "6ab39a82",
   "metadata": {},
   "outputs": [],
   "source": [
    "bpe_pipeline = get_spacy_pipeline()"
   ]
  },
  {
   "cell_type": "code",
   "execution_count": 4,
   "id": "7436fd7f",
   "metadata": {},
   "outputs": [],
   "source": [
    "df = pd.read_csv('wiki_text_test_parsed2.pred.mwe', sep='\\t', names=[0,'sentence','d'],)"
   ]
  },
  {
   "cell_type": "code",
   "execution_count": 5,
   "id": "c6192361",
   "metadata": {},
   "outputs": [
    {
     "name": "stderr",
     "output_type": "stream",
     "text": [
      "Found cached dataset wikitext (/Users/andrejerkelens/.cache/huggingface/datasets/wikitext/wikitext-2-raw-v1/1.0.0/a241db52902eaf2c6aa732210bead40c090019a499ceb13bcbfa3f8ab646a126)\n"
     ]
    }
   ],
   "source": [
    "wiki_text = load_dataset(\"wikitext\", \"wikitext-2-raw-v1\", split=\"test\")['text']\n",
    "wiki_text = [w for w in wiki_text if w]"
   ]
  },
  {
   "cell_type": "code",
   "execution_count": 6,
   "id": "f9de4569",
   "metadata": {},
   "outputs": [],
   "source": [
    "df['d'] = df.apply(lambda x: literal_eval(x['d']), axis=1)"
   ]
  },
  {
   "cell_type": "code",
   "execution_count": 7,
   "id": "048927fe",
   "metadata": {},
   "outputs": [],
   "source": [
    "df = pd.concat([df, pd.json_normalize(df.d)],axis=1)\n",
    "df = df.drop(columns=[0])"
   ]
  },
  {
   "cell_type": "code",
   "execution_count": 8,
   "id": "4f28ff82",
   "metadata": {},
   "outputs": [],
   "source": [
    "df['tokens'] = df['toks'].apply(lambda x: [y[0] for y in x])\n",
    "df['sentence'] = df['sentence'].apply(lambda x: literal_eval(x).decode('utf-8'))"
   ]
  },
  {
   "cell_type": "code",
   "execution_count": 9,
   "id": "c68be41a",
   "metadata": {},
   "outputs": [
    {
     "data": {
      "text/plain": [
       "'= Robert_Boulter ='"
      ]
     },
     "execution_count": 9,
     "metadata": {},
     "output_type": "execute_result"
    }
   ],
   "source": [
    "df.sentence[0]"
   ]
  },
  {
   "cell_type": "code",
   "execution_count": 10,
   "id": "164968e8",
   "metadata": {
    "scrolled": true
   },
   "outputs": [
    {
     "data": {
      "text/plain": [
       "(10265, 8)"
      ]
     },
     "execution_count": 10,
     "metadata": {},
     "output_type": "execute_result"
    }
   ],
   "source": [
    "df.shape"
   ]
  },
  {
   "cell_type": "markdown",
   "id": "1883d843",
   "metadata": {},
   "source": [
    "---\n",
    "\n",
    "### Note:\n",
    "\n",
    "Only piece is to remove underscore from sentences "
   ]
  },
  {
   "cell_type": "code",
   "execution_count": 11,
   "id": "1a7abb0e",
   "metadata": {},
   "outputs": [],
   "source": [
    "nlp = spacy.load(\"en_core_web_sm\")"
   ]
  },
  {
   "cell_type": "code",
   "execution_count": 99,
   "id": "3285f59a",
   "metadata": {},
   "outputs": [],
   "source": [
    "def parse_sentences_mwe(dataset, pipeline = \"spacy\"):\n",
    "    lines = []\n",
    "    for d in dataset:\n",
    "        if pipeline == \"spacy\":\n",
    "            doc = nlp(d)\n",
    "        elif pipeline == \"bpe\":\n",
    "            doc = bpe_pipeline(d)\n",
    "        if doc:\n",
    "            for sent in doc.sents:\n",
    "                lines.append(f\"{word}\\t{word.pos_}\\n\")\n",
    "                lines.append(\"\\n\")\n",
    "    return lines\n",
    "\n",
    "def strip_g(l: list):\n",
    "    return [i.replace(\"Ġ\", \"\") for i in l]"
   ]
  },
  {
   "cell_type": "code",
   "execution_count": 100,
   "id": "ee977f61",
   "metadata": {},
   "outputs": [],
   "source": [
    "_, two2one = tokenizations.get_alignments(df.iloc[1].tokens, list(map(str, list(bpe_pipeline(wiki_text[1]).sents)[0])))"
   ]
  },
  {
   "cell_type": "code",
   "execution_count": 101,
   "id": "50577ed8",
   "metadata": {},
   "outputs": [],
   "source": [
    "df['sent'] = df['sentence'].apply(lambda x: x.replace(\"_\", \" \").replace(\"~\", \" \"))"
   ]
  },
  {
   "cell_type": "code",
   "execution_count": 102,
   "id": "f1b3097d",
   "metadata": {},
   "outputs": [
    {
     "data": {
      "text/plain": [
       "(10265, 14)"
      ]
     },
     "execution_count": 102,
     "metadata": {},
     "output_type": "execute_result"
    }
   ],
   "source": [
    "df.shape"
   ]
  },
  {
   "cell_type": "code",
   "execution_count": 103,
   "id": "9f5af589",
   "metadata": {},
   "outputs": [],
   "source": [
    "df['bpe_tokens'] = df.apply(lambda x: list(map(str, list(bpe_pipeline(x[\"sent\"])))), axis=1)"
   ]
  },
  {
   "cell_type": "code",
   "execution_count": 104,
   "id": "b386d87d",
   "metadata": {},
   "outputs": [],
   "source": [
    "df['token_map'] = df.apply(lambda x: tokenizations.get_alignments(x['tokens'], \n",
    "                                                                  strip_g(x['bpe_tokens']))[1], axis=1)"
   ]
  },
  {
   "cell_type": "code",
   "execution_count": 106,
   "id": "27b19da8",
   "metadata": {},
   "outputs": [
    {
     "data": {
      "text/plain": [
       "{0: [0],\n",
       " 1: [1],\n",
       " 2: [2],\n",
       " 3: [3],\n",
       " 5: [5],\n",
       " 6: [6],\n",
       " 7: [7],\n",
       " 8: [8],\n",
       " 9: [9],\n",
       " 10: [10],\n",
       " 11: [11],\n",
       " 13: [17],\n",
       " 14: [18, 19],\n",
       " 16: [21],\n",
       " 17: [22],\n",
       " 18: [23],\n",
       " 19: [24],\n",
       " 20: [25],\n",
       " 21: [26],\n",
       " 22: [27],\n",
       " 23: [28],\n",
       " 24: [29],\n",
       " 25: [30, 31],\n",
       " 26: [31],\n",
       " 27: [32]}"
      ]
     },
     "execution_count": 106,
     "metadata": {},
     "output_type": "execute_result"
    }
   ],
   "source": [
    "df.iloc[52].token_map_dict"
   ]
  },
  {
   "cell_type": "code",
   "execution_count": 112,
   "id": "45336cb3",
   "metadata": {},
   "outputs": [
    {
     "data": {
      "text/plain": [
       "[[0],\n",
       " [1],\n",
       " [2],\n",
       " [3],\n",
       " [],\n",
       " [5],\n",
       " [6],\n",
       " [7],\n",
       " [8],\n",
       " [9],\n",
       " [10],\n",
       " [11],\n",
       " [],\n",
       " [],\n",
       " [],\n",
       " [],\n",
       " [],\n",
       " [13],\n",
       " [14],\n",
       " [14],\n",
       " [],\n",
       " [16],\n",
       " [17],\n",
       " [18],\n",
       " [19],\n",
       " [20],\n",
       " [21],\n",
       " [22],\n",
       " [23],\n",
       " [24],\n",
       " [25],\n",
       " [25, 26],\n",
       " [27]]"
      ]
     },
     "execution_count": 112,
     "metadata": {},
     "output_type": "execute_result"
    }
   ],
   "source": [
    "tokenizations.get_alignments(df.iloc[52].tokens, df.iloc[52].bpe_tokens)[1]"
   ]
  },
  {
   "cell_type": "code",
   "execution_count": 117,
   "id": "caf92f26",
   "metadata": {},
   "outputs": [
    {
     "data": {
      "text/plain": [
       "{0: [0],\n",
       " 1: [1],\n",
       " 2: [2],\n",
       " 3: [3],\n",
       " 5: [5],\n",
       " 6: [6],\n",
       " 7: [7],\n",
       " 8: [8],\n",
       " 9: [9],\n",
       " 10: [10],\n",
       " 11: [11],\n",
       " 13: [17],\n",
       " 14: [18, 19],\n",
       " 16: [21],\n",
       " 17: [22],\n",
       " 18: [23],\n",
       " 19: [24],\n",
       " 20: [25],\n",
       " 21: [26],\n",
       " 22: [27],\n",
       " 23: [28],\n",
       " 24: [29],\n",
       " 25: [30],\n",
       " 26: [31],\n",
       " 27: [32]}"
      ]
     },
     "execution_count": 117,
     "metadata": {},
     "output_type": "execute_result"
    }
   ],
   "source": [
    "df.iloc[52].token_map_dict"
   ]
  },
  {
   "cell_type": "code",
   "execution_count": 114,
   "id": "294e45d5",
   "metadata": {},
   "outputs": [],
   "source": [
    "def list_to_index_dict(input_list):\n",
    "    index_dict = {}\n",
    "    \n",
    "    for index, sublist in enumerate(input_list):\n",
    "        for item in sublist:\n",
    "            if item in index_dict:\n",
    "                index_dict[item].append(index)\n",
    "            else:\n",
    "                index_dict[item] = [index]\n",
    "    \n",
    "    return index_dict"
   ]
  },
  {
   "cell_type": "code",
   "execution_count": 115,
   "id": "5a8df529",
   "metadata": {},
   "outputs": [],
   "source": [
    "df['token_map_dict'] = df['token_map'].apply(lambda x: list_to_index_dict(x))"
   ]
  },
  {
   "cell_type": "code",
   "execution_count": 116,
   "id": "ea589232",
   "metadata": {
    "scrolled": false
   },
   "outputs": [
    {
     "data": {
      "text/html": [
       "<div>\n",
       "<style scoped>\n",
       "    .dataframe tbody tr th:only-of-type {\n",
       "        vertical-align: middle;\n",
       "    }\n",
       "\n",
       "    .dataframe tbody tr th {\n",
       "        vertical-align: top;\n",
       "    }\n",
       "\n",
       "    .dataframe thead th {\n",
       "        text-align: right;\n",
       "    }\n",
       "</style>\n",
       "<table border=\"1\" class=\"dataframe\">\n",
       "  <thead>\n",
       "    <tr style=\"text-align: right;\">\n",
       "      <th></th>\n",
       "      <th>sent</th>\n",
       "      <th>tags</th>\n",
       "      <th>_</th>\n",
       "      <th>~</th>\n",
       "      <th>tokens</th>\n",
       "      <th>bpe_tokens</th>\n",
       "      <th>token_map</th>\n",
       "      <th>token_map_dict</th>\n",
       "    </tr>\n",
       "  </thead>\n",
       "  <tbody>\n",
       "    <tr>\n",
       "      <th>52</th>\n",
       "      <td>Du Fu ( Wade – Giles : Tu Fu ; Chinese : 杜甫 ; ...</td>\n",
       "      <td>[O, O, O, O, O, O, O, O, O, O, O, O, O, O, O, ...</td>\n",
       "      <td>[[21, 22, 23], [26, 27]]</td>\n",
       "      <td>[]</td>\n",
       "      <td>[Du, Fu, (, Wade, –, Giles, :, Tu, Fu, ;, Chin...</td>\n",
       "      <td>[Du, ĠFu, Ġ(, ĠWade, ĠâĢĵ, ĠGiles, Ġ:, ĠTu, ĠF...</td>\n",
       "      <td>[[0], [1], [2], [3], [], [5], [6], [7], [8], [...</td>\n",
       "      <td>{0: [0], 1: [1], 2: [2], 3: [3], 5: [5], 6: [6...</td>\n",
       "    </tr>\n",
       "  </tbody>\n",
       "</table>\n",
       "</div>"
      ],
      "text/plain": [
       "                                                 sent  \\\n",
       "52  Du Fu ( Wade – Giles : Tu Fu ; Chinese : 杜甫 ; ...   \n",
       "\n",
       "                                                 tags  \\\n",
       "52  [O, O, O, O, O, O, O, O, O, O, O, O, O, O, O, ...   \n",
       "\n",
       "                           _   ~  \\\n",
       "52  [[21, 22, 23], [26, 27]]  []   \n",
       "\n",
       "                                               tokens  \\\n",
       "52  [Du, Fu, (, Wade, –, Giles, :, Tu, Fu, ;, Chin...   \n",
       "\n",
       "                                           bpe_tokens  \\\n",
       "52  [Du, ĠFu, Ġ(, ĠWade, ĠâĢĵ, ĠGiles, Ġ:, ĠTu, ĠF...   \n",
       "\n",
       "                                            token_map  \\\n",
       "52  [[0], [1], [2], [3], [], [5], [6], [7], [8], [...   \n",
       "\n",
       "                                       token_map_dict  \n",
       "52  {0: [0], 1: [1], 2: [2], 3: [3], 5: [5], 6: [6...  "
      ]
     },
     "execution_count": 116,
     "metadata": {},
     "output_type": "execute_result"
    }
   ],
   "source": [
    "df[['sent','tags', '_', '~', 'tokens','bpe_tokens', 'token_map', 'token_map_dict']].iloc[52:53]"
   ]
  },
  {
   "cell_type": "code",
   "execution_count": 54,
   "id": "e1d82f77",
   "metadata": {},
   "outputs": [],
   "source": [
    "def map_weak_mwes_together(x):\n",
    "    \n",
    "    mapped_mwes = []\n",
    "    for j, mwe in enumerate(x['_']):\n",
    "        print(\"mwe\")\n",
    "        print(mwe)\n",
    "        mapped_mwes.append([])\n",
    "        for index in mwe:\n",
    "            print(\"index\")\n",
    "            print(index)\n",
    "            if index-1 in x['token_map_dict']:\n",
    "                for val in x['token_map_dict'][index-1]:\n",
    "                    print(\"val\")\n",
    "                    print(val)\n",
    "                    mapped_mwes[j].append(val+1)\n",
    "                \n",
    "                \n",
    "    return mapped_mwes\n",
    "                   \n",
    "    \n",
    "def map_strong_mwes_together(x):\n",
    "    \n",
    "    mapped_mwes = []\n",
    "    for j, mwe in enumerate(x['~']):\n",
    "        mapped_mwes.append([])\n",
    "        for index in mwe:\n",
    "            \n",
    "            if index-1 in x['token_map_dict']:\n",
    "                for val in x['token_map_dict'][index-1]:\n",
    "                    mapped_mwes[j].append(val+1)\n",
    "                \n",
    "                \n",
    "    return mapped_mwes\n",
    "                    "
   ]
  },
  {
   "cell_type": "code",
   "execution_count": 23,
   "id": "28613400",
   "metadata": {},
   "outputs": [],
   "source": [
    "df['weak_mwe'] = df.apply(lambda x: map_weak_mwes_together(x),axis=1)\n",
    "df['strong_mwe'] = df.apply(lambda x: map_strong_mwes_together(x),axis=1)"
   ]
  },
  {
   "cell_type": "code",
   "execution_count": 118,
   "id": "f52403b8",
   "metadata": {},
   "outputs": [
    {
     "data": {
      "text/plain": [
       "{0: [0],\n",
       " 1: [1],\n",
       " 2: [2],\n",
       " 3: [3],\n",
       " 5: [5],\n",
       " 6: [6],\n",
       " 7: [7],\n",
       " 8: [8],\n",
       " 9: [9],\n",
       " 10: [10],\n",
       " 11: [11],\n",
       " 13: [17],\n",
       " 14: [18, 19],\n",
       " 16: [21],\n",
       " 17: [22],\n",
       " 18: [23],\n",
       " 19: [24],\n",
       " 20: [25],\n",
       " 21: [26],\n",
       " 22: [27],\n",
       " 23: [28],\n",
       " 24: [29],\n",
       " 25: [30],\n",
       " 26: [31],\n",
       " 27: [32]}"
      ]
     },
     "execution_count": 118,
     "metadata": {},
     "output_type": "execute_result"
    }
   ],
   "source": [
    "df.iloc[52].token_map_dict"
   ]
  },
  {
   "cell_type": "code",
   "execution_count": 70,
   "id": "10136744",
   "metadata": {},
   "outputs": [
    {
     "data": {
      "text/html": [
       "<div>\n",
       "<style scoped>\n",
       "    .dataframe tbody tr th:only-of-type {\n",
       "        vertical-align: middle;\n",
       "    }\n",
       "\n",
       "    .dataframe tbody tr th {\n",
       "        vertical-align: top;\n",
       "    }\n",
       "\n",
       "    .dataframe thead th {\n",
       "        text-align: right;\n",
       "    }\n",
       "</style>\n",
       "<table border=\"1\" class=\"dataframe\">\n",
       "  <thead>\n",
       "    <tr style=\"text-align: right;\">\n",
       "      <th></th>\n",
       "      <th>sentence</th>\n",
       "      <th>d</th>\n",
       "      <th>toks</th>\n",
       "      <th>tags</th>\n",
       "      <th>_</th>\n",
       "      <th>~</th>\n",
       "      <th>lemmas</th>\n",
       "      <th>tokens</th>\n",
       "      <th>sent</th>\n",
       "      <th>bpe_tokens</th>\n",
       "      <th>token_map</th>\n",
       "      <th>token_map_dict</th>\n",
       "      <th>weak_mwe</th>\n",
       "      <th>strong_mwe</th>\n",
       "    </tr>\n",
       "  </thead>\n",
       "  <tbody>\n",
       "    <tr>\n",
       "      <th>217</th>\n",
       "      <td>The translators have had_to contend with bring...</td>\n",
       "      <td>{'toks': [['The', 'DET'], ['translators', 'NOU...</td>\n",
       "      <td>[[The, DET], [translators, NOUN], [have, AUX],...</td>\n",
       "      <td>[O, O, O, B, Ī, O, O, B, Ī, O, O, O, O, O, O, ...</td>\n",
       "      <td>[[4, 5], [8, 9], [54, 55, 56], [57, 58]]</td>\n",
       "      <td>[]</td>\n",
       "      <td>[the, translator, have, have, to, contend, wit...</td>\n",
       "      <td>[The, translators, have, had, to, contend, wit...</td>\n",
       "      <td>The translators have had to contend with bring...</td>\n",
       "      <td>[The, Ġtransl, ators, Ġhave, Ġhad, Ġto, Ġconte...</td>\n",
       "      <td>[[0], [1], [1], [2], [3], [4], [5], [6], [7], ...</td>\n",
       "      <td>{0: [0], 1: [1, 2], 2: [3], 3: [4], 4: [5], 5:...</td>\n",
       "      <td>[[5, 6], [9, 10, 10], [61, 62, 63], [64, 65]]</td>\n",
       "      <td>[]</td>\n",
       "    </tr>\n",
       "  </tbody>\n",
       "</table>\n",
       "</div>"
      ],
      "text/plain": [
       "                                              sentence  \\\n",
       "217  The translators have had_to contend with bring...   \n",
       "\n",
       "                                                     d  \\\n",
       "217  {'toks': [['The', 'DET'], ['translators', 'NOU...   \n",
       "\n",
       "                                                  toks  \\\n",
       "217  [[The, DET], [translators, NOUN], [have, AUX],...   \n",
       "\n",
       "                                                  tags  \\\n",
       "217  [O, O, O, B, Ī, O, O, B, Ī, O, O, O, O, O, O, ...   \n",
       "\n",
       "                                            _   ~  \\\n",
       "217  [[4, 5], [8, 9], [54, 55, 56], [57, 58]]  []   \n",
       "\n",
       "                                                lemmas  \\\n",
       "217  [the, translator, have, have, to, contend, wit...   \n",
       "\n",
       "                                                tokens  \\\n",
       "217  [The, translators, have, had, to, contend, wit...   \n",
       "\n",
       "                                                  sent  \\\n",
       "217  The translators have had to contend with bring...   \n",
       "\n",
       "                                            bpe_tokens  \\\n",
       "217  [The, Ġtransl, ators, Ġhave, Ġhad, Ġto, Ġconte...   \n",
       "\n",
       "                                             token_map  \\\n",
       "217  [[0], [1], [1], [2], [3], [4], [5], [6], [7], ...   \n",
       "\n",
       "                                        token_map_dict  \\\n",
       "217  {0: [0], 1: [1, 2], 2: [3], 3: [4], 4: [5], 5:...   \n",
       "\n",
       "                                          weak_mwe strong_mwe  \n",
       "217  [[5, 6], [9, 10, 10], [61, 62, 63], [64, 65]]         []  "
      ]
     },
     "execution_count": 70,
     "metadata": {},
     "output_type": "execute_result"
    }
   ],
   "source": [
    "df.iloc[217:218]"
   ]
  },
  {
   "cell_type": "code",
   "execution_count": null,
   "id": "b0508cae",
   "metadata": {},
   "outputs": [],
   "source": []
  }
 ],
 "metadata": {
  "kernelspec": {
   "display_name": "shapleyres",
   "language": "python",
   "name": "shapleyres"
  },
  "language_info": {
   "codemirror_mode": {
    "name": "ipython",
    "version": 3
   },
   "file_extension": ".py",
   "mimetype": "text/x-python",
   "name": "python",
   "nbconvert_exporter": "python",
   "pygments_lexer": "ipython3",
   "version": "3.11.4"
  }
 },
 "nbformat": 4,
 "nbformat_minor": 5
}
