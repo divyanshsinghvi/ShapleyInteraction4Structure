{
 "cells": [
  {
   "cell_type": "code",
   "execution_count": 1,
   "id": "a62a58fc",
   "metadata": {
    "scrolled": true
   },
   "outputs": [
    {
     "name": "stdout",
     "output_type": "stream",
     "text": [
      "Collecting en-core-web-sm==3.6.0\n",
      "  Downloading https://github.com/explosion/spacy-models/releases/download/en_core_web_sm-3.6.0/en_core_web_sm-3.6.0-py3-none-any.whl (12.8 MB)\n",
      "\u001b[2K     \u001b[38;2;114;156;31m━━━━━━━━━━━━━━━━━━━━━━━━━━━━━━━━━━━━━━━━\u001b[0m \u001b[32m12.8/12.8 MB\u001b[0m \u001b[31m21.5 MB/s\u001b[0m eta \u001b[36m0:00:00\u001b[0m[36m0:00:01\u001b[0m[36m0:00:01\u001b[0m01\u001b[0m\n",
      "\u001b[?25hRequirement already satisfied: spacy<3.7.0,>=3.6.0 in /Users/andrejerkelens/miniforge3/envs/shapleyres/lib/python3.11/site-packages (from en-core-web-sm==3.6.0) (3.6.1)\n",
      "Requirement already satisfied: spacy-legacy<3.1.0,>=3.0.11 in /Users/andrejerkelens/miniforge3/envs/shapleyres/lib/python3.11/site-packages (from spacy<3.7.0,>=3.6.0->en-core-web-sm==3.6.0) (3.0.12)\n",
      "Requirement already satisfied: spacy-loggers<2.0.0,>=1.0.0 in /Users/andrejerkelens/miniforge3/envs/shapleyres/lib/python3.11/site-packages (from spacy<3.7.0,>=3.6.0->en-core-web-sm==3.6.0) (1.0.4)\n",
      "Requirement already satisfied: murmurhash<1.1.0,>=0.28.0 in /Users/andrejerkelens/miniforge3/envs/shapleyres/lib/python3.11/site-packages (from spacy<3.7.0,>=3.6.0->en-core-web-sm==3.6.0) (1.0.9)\n",
      "Requirement already satisfied: cymem<2.1.0,>=2.0.2 in /Users/andrejerkelens/miniforge3/envs/shapleyres/lib/python3.11/site-packages (from spacy<3.7.0,>=3.6.0->en-core-web-sm==3.6.0) (2.0.7)\n",
      "Requirement already satisfied: preshed<3.1.0,>=3.0.2 in /Users/andrejerkelens/miniforge3/envs/shapleyres/lib/python3.11/site-packages (from spacy<3.7.0,>=3.6.0->en-core-web-sm==3.6.0) (3.0.8)\n",
      "Requirement already satisfied: thinc<8.2.0,>=8.1.8 in /Users/andrejerkelens/miniforge3/envs/shapleyres/lib/python3.11/site-packages (from spacy<3.7.0,>=3.6.0->en-core-web-sm==3.6.0) (8.1.10)\n",
      "Requirement already satisfied: wasabi<1.2.0,>=0.9.1 in /Users/andrejerkelens/miniforge3/envs/shapleyres/lib/python3.11/site-packages (from spacy<3.7.0,>=3.6.0->en-core-web-sm==3.6.0) (1.1.2)\n",
      "Requirement already satisfied: srsly<3.0.0,>=2.4.3 in /Users/andrejerkelens/miniforge3/envs/shapleyres/lib/python3.11/site-packages (from spacy<3.7.0,>=3.6.0->en-core-web-sm==3.6.0) (2.4.6)\n",
      "Requirement already satisfied: catalogue<2.1.0,>=2.0.6 in /Users/andrejerkelens/miniforge3/envs/shapleyres/lib/python3.11/site-packages (from spacy<3.7.0,>=3.6.0->en-core-web-sm==3.6.0) (2.0.8)\n",
      "Requirement already satisfied: typer<0.10.0,>=0.3.0 in /Users/andrejerkelens/miniforge3/envs/shapleyres/lib/python3.11/site-packages (from spacy<3.7.0,>=3.6.0->en-core-web-sm==3.6.0) (0.9.0)\n",
      "Requirement already satisfied: pathy>=0.10.0 in /Users/andrejerkelens/miniforge3/envs/shapleyres/lib/python3.11/site-packages (from spacy<3.7.0,>=3.6.0->en-core-web-sm==3.6.0) (0.10.2)\n",
      "Requirement already satisfied: smart-open<7.0.0,>=5.2.1 in /Users/andrejerkelens/miniforge3/envs/shapleyres/lib/python3.11/site-packages (from spacy<3.7.0,>=3.6.0->en-core-web-sm==3.6.0) (6.3.0)\n",
      "Requirement already satisfied: tqdm<5.0.0,>=4.38.0 in /Users/andrejerkelens/miniforge3/envs/shapleyres/lib/python3.11/site-packages (from spacy<3.7.0,>=3.6.0->en-core-web-sm==3.6.0) (4.65.0)\n",
      "Requirement already satisfied: numpy>=1.15.0 in /Users/andrejerkelens/miniforge3/envs/shapleyres/lib/python3.11/site-packages (from spacy<3.7.0,>=3.6.0->en-core-web-sm==3.6.0) (1.24.4)\n",
      "Requirement already satisfied: requests<3.0.0,>=2.13.0 in /Users/andrejerkelens/miniforge3/envs/shapleyres/lib/python3.11/site-packages (from spacy<3.7.0,>=3.6.0->en-core-web-sm==3.6.0) (2.29.0)\n",
      "Requirement already satisfied: pydantic!=1.8,!=1.8.1,<3.0.0,>=1.7.4 in /Users/andrejerkelens/miniforge3/envs/shapleyres/lib/python3.11/site-packages (from spacy<3.7.0,>=3.6.0->en-core-web-sm==3.6.0) (1.10.11)\n",
      "Requirement already satisfied: jinja2 in /Users/andrejerkelens/miniforge3/envs/shapleyres/lib/python3.11/site-packages (from spacy<3.7.0,>=3.6.0->en-core-web-sm==3.6.0) (3.1.2)\n",
      "Requirement already satisfied: setuptools in /Users/andrejerkelens/miniforge3/envs/shapleyres/lib/python3.11/site-packages (from spacy<3.7.0,>=3.6.0->en-core-web-sm==3.6.0) (68.1.2)\n",
      "Requirement already satisfied: packaging>=20.0 in /Users/andrejerkelens/miniforge3/envs/shapleyres/lib/python3.11/site-packages (from spacy<3.7.0,>=3.6.0->en-core-web-sm==3.6.0) (21.3)\n",
      "Requirement already satisfied: langcodes<4.0.0,>=3.2.0 in /Users/andrejerkelens/miniforge3/envs/shapleyres/lib/python3.11/site-packages (from spacy<3.7.0,>=3.6.0->en-core-web-sm==3.6.0) (3.3.0)\n",
      "Requirement already satisfied: pyparsing!=3.0.5,>=2.0.2 in /Users/andrejerkelens/miniforge3/envs/shapleyres/lib/python3.11/site-packages (from packaging>=20.0->spacy<3.7.0,>=3.6.0->en-core-web-sm==3.6.0) (3.0.4)\n",
      "Requirement already satisfied: typing-extensions>=4.2.0 in /Users/andrejerkelens/miniforge3/envs/shapleyres/lib/python3.11/site-packages (from pydantic!=1.8,!=1.8.1,<3.0.0,>=1.7.4->spacy<3.7.0,>=3.6.0->en-core-web-sm==3.6.0) (4.6.3)\n",
      "Requirement already satisfied: charset-normalizer<4,>=2 in /Users/andrejerkelens/miniforge3/envs/shapleyres/lib/python3.11/site-packages (from requests<3.0.0,>=2.13.0->spacy<3.7.0,>=3.6.0->en-core-web-sm==3.6.0) (2.0.4)\n",
      "Requirement already satisfied: idna<4,>=2.5 in /Users/andrejerkelens/miniforge3/envs/shapleyres/lib/python3.11/site-packages (from requests<3.0.0,>=2.13.0->spacy<3.7.0,>=3.6.0->en-core-web-sm==3.6.0) (3.4)\n",
      "Requirement already satisfied: urllib3<1.27,>=1.21.1 in /Users/andrejerkelens/miniforge3/envs/shapleyres/lib/python3.11/site-packages (from requests<3.0.0,>=2.13.0->spacy<3.7.0,>=3.6.0->en-core-web-sm==3.6.0) (1.26.16)\n",
      "Requirement already satisfied: certifi>=2017.4.17 in /Users/andrejerkelens/miniforge3/envs/shapleyres/lib/python3.11/site-packages (from requests<3.0.0,>=2.13.0->spacy<3.7.0,>=3.6.0->en-core-web-sm==3.6.0) (2023.5.7)\n",
      "Requirement already satisfied: blis<0.8.0,>=0.7.8 in /Users/andrejerkelens/miniforge3/envs/shapleyres/lib/python3.11/site-packages (from thinc<8.2.0,>=8.1.8->spacy<3.7.0,>=3.6.0->en-core-web-sm==3.6.0) (0.7.9)\n",
      "Requirement already satisfied: confection<1.0.0,>=0.0.1 in /Users/andrejerkelens/miniforge3/envs/shapleyres/lib/python3.11/site-packages (from thinc<8.2.0,>=8.1.8->spacy<3.7.0,>=3.6.0->en-core-web-sm==3.6.0) (0.1.0)\n",
      "Requirement already satisfied: click<9.0.0,>=7.1.1 in /Users/andrejerkelens/miniforge3/envs/shapleyres/lib/python3.11/site-packages (from typer<0.10.0,>=0.3.0->spacy<3.7.0,>=3.6.0->en-core-web-sm==3.6.0) (8.1.4)\n",
      "Requirement already satisfied: MarkupSafe>=2.0 in /Users/andrejerkelens/miniforge3/envs/shapleyres/lib/python3.11/site-packages (from jinja2->spacy<3.7.0,>=3.6.0->en-core-web-sm==3.6.0) (2.1.1)\n",
      "\u001b[38;5;2m✔ Download and installation successful\u001b[0m\n",
      "You can now load the package via spacy.load('en_core_web_sm')\n"
     ]
    }
   ],
   "source": [
    "!../data_processing/setup_spacy.sh"
   ]
  },
  {
   "cell_type": "code",
   "execution_count": 2,
   "id": "cac23d31",
   "metadata": {},
   "outputs": [
    {
     "name": "stderr",
     "output_type": "stream",
     "text": [
      "None of PyTorch, TensorFlow >= 2.0, or Flax have been found. Models won't be available and only tokenizers, configuration and file/data utilities can be used.\n"
     ]
    }
   ],
   "source": [
    "import sys; sys.path.append('../data_processing/')\n",
    "import pandas as pd\n",
    "from parse_dep import *\n",
    "import re\n",
    "from ast import literal_eval\n",
    "import tokenizations\n",
    "from datasets import load_dataset"
   ]
  },
  {
   "cell_type": "code",
   "execution_count": 3,
   "id": "6ab39a82",
   "metadata": {},
   "outputs": [],
   "source": [
    "bpe_pipeline = get_spacy_pipeline()"
   ]
  },
  {
   "cell_type": "code",
   "execution_count": 23,
   "id": "cc97127d",
   "metadata": {},
   "outputs": [],
   "source": [
    "default_pipeline = spacy.load(\"en_core_web_sm\")"
   ]
  },
  {
   "cell_type": "code",
   "execution_count": 5,
   "id": "7436fd7f",
   "metadata": {},
   "outputs": [],
   "source": [
    "df = pd.read_csv('wiki_text_test_parsed2.pred.mwe', sep='\\t', names=[0,'sentence','d'],)"
   ]
  },
  {
   "cell_type": "code",
   "execution_count": 6,
   "id": "c6192361",
   "metadata": {},
   "outputs": [
    {
     "name": "stderr",
     "output_type": "stream",
     "text": [
      "Found cached dataset wikitext (/Users/andrejerkelens/.cache/huggingface/datasets/wikitext/wikitext-2-raw-v1/1.0.0/a241db52902eaf2c6aa732210bead40c090019a499ceb13bcbfa3f8ab646a126)\n"
     ]
    }
   ],
   "source": [
    "wiki_text = load_dataset(\"wikitext\", \"wikitext-2-raw-v1\", split=\"test\")['text']\n",
    "wiki_text = [w for w in wiki_text if w]"
   ]
  },
  {
   "cell_type": "code",
   "execution_count": 7,
   "id": "f9de4569",
   "metadata": {},
   "outputs": [],
   "source": [
    "df['d'] = df.apply(lambda x: literal_eval(x['d']), axis=1)"
   ]
  },
  {
   "cell_type": "code",
   "execution_count": 8,
   "id": "048927fe",
   "metadata": {},
   "outputs": [],
   "source": [
    "df = pd.concat([df, pd.json_normalize(df.d)],axis=1)\n",
    "df = df.drop(columns=[0])"
   ]
  },
  {
   "cell_type": "code",
   "execution_count": 9,
   "id": "4f28ff82",
   "metadata": {},
   "outputs": [],
   "source": [
    "df['tokens'] = df['toks'].apply(lambda x: [y[0] for y in x])\n",
    "df['sentence'] = df['sentence'].apply(lambda x: literal_eval(x).decode('utf-8'))"
   ]
  },
  {
   "cell_type": "code",
   "execution_count": 28,
   "id": "afd85154",
   "metadata": {},
   "outputs": [],
   "source": [
    "df[\"syntactic_distance_tok\"] = df[\"sent\"].apply(lambda x: get_syntactic_distance(default_pipeline(x), index=False))\n",
    "df[\"syntactic_distance_idx\"] = df[\"sent\"].apply(lambda x: get_syntactic_distance(default_pipeline(x), index=True))"
   ]
  },
  {
   "cell_type": "markdown",
   "id": "1883d843",
   "metadata": {},
   "source": [
    "---\n",
    "\n",
    "### Note:\n",
    "\n",
    "Only piece is to remove underscore from sentences "
   ]
  },
  {
   "cell_type": "code",
   "execution_count": 12,
   "id": "3285f59a",
   "metadata": {},
   "outputs": [],
   "source": [
    "def parse_sentences_mwe(dataset, pipeline = \"spacy\"):\n",
    "    lines = []\n",
    "    for d in dataset:\n",
    "        if pipeline == \"spacy\":\n",
    "            doc = nlp(d)\n",
    "        elif pipeline == \"bpe\":\n",
    "            doc = bpe_pipeline(d)\n",
    "        if doc:\n",
    "            for sent in doc.sents:\n",
    "                lines.append(f\"{word}\\t{word.pos_}\\n\")\n",
    "                lines.append(\"\\n\")\n",
    "    return lines\n",
    "\n",
    "def strip_g(l: list):\n",
    "    return [i.replace(\"Ġ\", \"\") for i in l]"
   ]
  },
  {
   "cell_type": "code",
   "execution_count": 13,
   "id": "ee977f61",
   "metadata": {},
   "outputs": [],
   "source": [
    "_, two2one = tokenizations.get_alignments(df.iloc[1].tokens, list(map(str, list(bpe_pipeline(wiki_text[1]).sents)[0])))"
   ]
  },
  {
   "cell_type": "code",
   "execution_count": 14,
   "id": "50577ed8",
   "metadata": {},
   "outputs": [],
   "source": [
    "df['sent'] = df['sentence'].apply(lambda x: x.replace(\"_\", \" \").replace(\"~\", \" \"))"
   ]
  },
  {
   "cell_type": "code",
   "execution_count": 33,
   "id": "9f5af589",
   "metadata": {},
   "outputs": [],
   "source": [
    "df['bpe_tokens'] = df.apply(lambda x: list(map(str, list(bpe_pipeline(x[\"sent\"])))), axis=1)"
   ]
  },
  {
   "cell_type": "code",
   "execution_count": 31,
   "id": "0fddd756",
   "metadata": {},
   "outputs": [
    {
     "data": {
      "text/html": [
       "<div>\n",
       "<style scoped>\n",
       "    .dataframe tbody tr th:only-of-type {\n",
       "        vertical-align: middle;\n",
       "    }\n",
       "\n",
       "    .dataframe tbody tr th {\n",
       "        vertical-align: top;\n",
       "    }\n",
       "\n",
       "    .dataframe thead th {\n",
       "        text-align: right;\n",
       "    }\n",
       "</style>\n",
       "<table border=\"1\" class=\"dataframe\">\n",
       "  <thead>\n",
       "    <tr style=\"text-align: right;\">\n",
       "      <th></th>\n",
       "      <th>sentence</th>\n",
       "      <th>d</th>\n",
       "      <th>toks</th>\n",
       "      <th>tags</th>\n",
       "      <th>_</th>\n",
       "      <th>~</th>\n",
       "      <th>lemmas</th>\n",
       "      <th>tokens</th>\n",
       "      <th>sent</th>\n",
       "      <th>syntactic_distance_tok</th>\n",
       "      <th>syntactic_distance_idx</th>\n",
       "    </tr>\n",
       "  </thead>\n",
       "  <tbody>\n",
       "    <tr>\n",
       "      <th>0</th>\n",
       "      <td>= Robert_Boulter =</td>\n",
       "      <td>{'toks': [['=', 'VERB'], ['Robert', 'PROPN'], ...</td>\n",
       "      <td>[[=, VERB], [Robert, PROPN], [Boulter, PROPN],...</td>\n",
       "      <td>[O, B-GROUP, Ī, O]</td>\n",
       "      <td>[[2, 3]]</td>\n",
       "      <td>[]</td>\n",
       "      <td>[=, robert, boulter, =]</td>\n",
       "      <td>[=, Robert, Boulter, =]</td>\n",
       "      <td>= Robert Boulter =</td>\n",
       "      <td>{(=, Robert): 2, (=, Boulter): 1, (=, =): 1, (...</td>\n",
       "      <td>{(0, 1): 2, (0, 2): 1, (0, 3): 1, (1, 2): 1, (...</td>\n",
       "    </tr>\n",
       "    <tr>\n",
       "      <th>1</th>\n",
       "      <td>Robert_Boulter is an English film , television...</td>\n",
       "      <td>{'toks': [['Robert', 'PROPN'], ['Boulter', 'PR...</td>\n",
       "      <td>[[Robert, PROPN], [Boulter, PROPN], [is, AUX],...</td>\n",
       "      <td>[B-PERSON, Ī, O, O, O, O, O, O, O, O, O, O]</td>\n",
       "      <td>[[1, 2]]</td>\n",
       "      <td>[]</td>\n",
       "      <td>[robert, boulter, be, an, english, film, ,, te...</td>\n",
       "      <td>[Robert, Boulter, is, an, English, film, ,, te...</td>\n",
       "      <td>Robert Boulter is an English film , television...</td>\n",
       "      <td>{(Robert, Boulter): 1, (Robert, is): 2, (Rober...</td>\n",
       "      <td>{(0, 1): 1, (0, 2): 2, (0, 3): 4, (0, 4): 4, (...</td>\n",
       "    </tr>\n",
       "    <tr>\n",
       "      <th>2</th>\n",
       "      <td>He had a guest @-@ starring role on the televi...</td>\n",
       "      <td>{'toks': [['He', 'PRON'], ['had', 'VERB'], ['a...</td>\n",
       "      <td>[[He, PRON], [had, VERB], [a, DET], [guest, NO...</td>\n",
       "      <td>[O, O, O, O, O, O, O, O, O, B, Ī, O, O, O, O, O]</td>\n",
       "      <td>[[10, 11]]</td>\n",
       "      <td>[]</td>\n",
       "      <td>[he, have, a, guest, @-@, star, role, on, the,...</td>\n",
       "      <td>[He, had, a, guest, @-@, starring, role, on, t...</td>\n",
       "      <td>He had a guest @-@ starring role on the televi...</td>\n",
       "      <td>{(He, had): 1, (He, a): 3, (He, guest): 3, (He...</td>\n",
       "      <td>{(0, 1): 1, (0, 2): 3, (0, 3): 3, (0, 4): 2, (...</td>\n",
       "    </tr>\n",
       "    <tr>\n",
       "      <th>3</th>\n",
       "      <td>This was followed by a starring role in the pl...</td>\n",
       "      <td>{'toks': [['This', 'PRON'], ['was', 'AUX'], ['...</td>\n",
       "      <td>[[This, PRON], [was, AUX], [followed, VERB], [...</td>\n",
       "      <td>[O, O, O, O, O, O, O, O, O, O, O, O, O, B-GROU...</td>\n",
       "      <td>[[14, 15], [24, 25]]</td>\n",
       "      <td>[]</td>\n",
       "      <td>[this, wa, follow, by, a, star, role, in, the,...</td>\n",
       "      <td>[This, was, followed, by, a, starring, role, i...</td>\n",
       "      <td>This was followed by a starring role in the pl...</td>\n",
       "      <td>{(This, was): 2, (This, followed): 1, (This, b...</td>\n",
       "      <td>{(0, 1): 2, (0, 2): 1, (0, 3): 2, (0, 4): 4, (...</td>\n",
       "    </tr>\n",
       "    <tr>\n",
       "      <th>4</th>\n",
       "      <td>He had a guest role in the television_series J...</td>\n",
       "      <td>{'toks': [['He', 'PRON'], ['had', 'VERB'], ['a...</td>\n",
       "      <td>[[He, PRON], [had, VERB], [a, DET], [guest, AD...</td>\n",
       "      <td>[O, O, O, O, O, O, O, B-COMMUNICATION, Ī, O, B...</td>\n",
       "      <td>[[8, 9], [11, 12]]</td>\n",
       "      <td>[]</td>\n",
       "      <td>[he, have, a, guest, role, in, the, television...</td>\n",
       "      <td>[He, had, a, guest, role, in, the, television,...</td>\n",
       "      <td>He had a guest role in the television series J...</td>\n",
       "      <td>{(He, had): 1, (He, a): 3, (He, guest): 3, (He...</td>\n",
       "      <td>{(0, 1): 1, (0, 2): 3, (0, 3): 3, (0, 4): 2, (...</td>\n",
       "    </tr>\n",
       "  </tbody>\n",
       "</table>\n",
       "</div>"
      ],
      "text/plain": [
       "                                            sentence  \\\n",
       "0                                 = Robert_Boulter =   \n",
       "1  Robert_Boulter is an English film , television...   \n",
       "2  He had a guest @-@ starring role on the televi...   \n",
       "3  This was followed by a starring role in the pl...   \n",
       "4  He had a guest role in the television_series J...   \n",
       "\n",
       "                                                   d  \\\n",
       "0  {'toks': [['=', 'VERB'], ['Robert', 'PROPN'], ...   \n",
       "1  {'toks': [['Robert', 'PROPN'], ['Boulter', 'PR...   \n",
       "2  {'toks': [['He', 'PRON'], ['had', 'VERB'], ['a...   \n",
       "3  {'toks': [['This', 'PRON'], ['was', 'AUX'], ['...   \n",
       "4  {'toks': [['He', 'PRON'], ['had', 'VERB'], ['a...   \n",
       "\n",
       "                                                toks  \\\n",
       "0  [[=, VERB], [Robert, PROPN], [Boulter, PROPN],...   \n",
       "1  [[Robert, PROPN], [Boulter, PROPN], [is, AUX],...   \n",
       "2  [[He, PRON], [had, VERB], [a, DET], [guest, NO...   \n",
       "3  [[This, PRON], [was, AUX], [followed, VERB], [...   \n",
       "4  [[He, PRON], [had, VERB], [a, DET], [guest, AD...   \n",
       "\n",
       "                                                tags                     _  \\\n",
       "0                                 [O, B-GROUP, Ī, O]              [[2, 3]]   \n",
       "1        [B-PERSON, Ī, O, O, O, O, O, O, O, O, O, O]              [[1, 2]]   \n",
       "2   [O, O, O, O, O, O, O, O, O, B, Ī, O, O, O, O, O]            [[10, 11]]   \n",
       "3  [O, O, O, O, O, O, O, O, O, O, O, O, O, B-GROU...  [[14, 15], [24, 25]]   \n",
       "4  [O, O, O, O, O, O, O, B-COMMUNICATION, Ī, O, B...    [[8, 9], [11, 12]]   \n",
       "\n",
       "    ~                                             lemmas  \\\n",
       "0  []                            [=, robert, boulter, =]   \n",
       "1  []  [robert, boulter, be, an, english, film, ,, te...   \n",
       "2  []  [he, have, a, guest, @-@, star, role, on, the,...   \n",
       "3  []  [this, wa, follow, by, a, star, role, in, the,...   \n",
       "4  []  [he, have, a, guest, role, in, the, television...   \n",
       "\n",
       "                                              tokens  \\\n",
       "0                            [=, Robert, Boulter, =]   \n",
       "1  [Robert, Boulter, is, an, English, film, ,, te...   \n",
       "2  [He, had, a, guest, @-@, starring, role, on, t...   \n",
       "3  [This, was, followed, by, a, starring, role, i...   \n",
       "4  [He, had, a, guest, role, in, the, television,...   \n",
       "\n",
       "                                                sent  \\\n",
       "0                                 = Robert Boulter =   \n",
       "1  Robert Boulter is an English film , television...   \n",
       "2  He had a guest @-@ starring role on the televi...   \n",
       "3  This was followed by a starring role in the pl...   \n",
       "4  He had a guest role in the television series J...   \n",
       "\n",
       "                              syntactic_distance_tok  \\\n",
       "0  {(=, Robert): 2, (=, Boulter): 1, (=, =): 1, (...   \n",
       "1  {(Robert, Boulter): 1, (Robert, is): 2, (Rober...   \n",
       "2  {(He, had): 1, (He, a): 3, (He, guest): 3, (He...   \n",
       "3  {(This, was): 2, (This, followed): 1, (This, b...   \n",
       "4  {(He, had): 1, (He, a): 3, (He, guest): 3, (He...   \n",
       "\n",
       "                              syntactic_distance_idx  \n",
       "0  {(0, 1): 2, (0, 2): 1, (0, 3): 1, (1, 2): 1, (...  \n",
       "1  {(0, 1): 1, (0, 2): 2, (0, 3): 4, (0, 4): 4, (...  \n",
       "2  {(0, 1): 1, (0, 2): 3, (0, 3): 3, (0, 4): 2, (...  \n",
       "3  {(0, 1): 2, (0, 2): 1, (0, 3): 2, (0, 4): 4, (...  \n",
       "4  {(0, 1): 1, (0, 2): 3, (0, 3): 3, (0, 4): 2, (...  "
      ]
     },
     "execution_count": 31,
     "metadata": {},
     "output_type": "execute_result"
    }
   ],
   "source": [
    "df.head()"
   ]
  },
  {
   "cell_type": "code",
   "execution_count": 46,
   "id": "daeb73b5",
   "metadata": {},
   "outputs": [
    {
     "name": "stdout",
     "output_type": "stream",
     "text": [
      "(0, 1)\n",
      "(0, 2)\n",
      "(0, 3)\n",
      "(1, 2)\n",
      "(1, 3)\n",
      "(2, 3)\n"
     ]
    }
   ],
   "source": [
    "for i in df[\"syntactic_distance_idx\"].iloc[0]:\n",
    "    print(i)"
   ]
  },
  {
   "cell_type": "code",
   "execution_count": 34,
   "id": "b386d87d",
   "metadata": {},
   "outputs": [],
   "source": [
    "df['token_map'] = df.apply(lambda x: tokenizations.get_alignments(x['tokens'], \n",
    "                                                                  strip_g(x['bpe_tokens']))[1], axis=1)"
   ]
  },
  {
   "cell_type": "code",
   "execution_count": 35,
   "id": "294e45d5",
   "metadata": {},
   "outputs": [],
   "source": [
    "def list_to_index_dict(input_list):\n",
    "    index_dict = {}\n",
    "    \n",
    "    for index, sublist in enumerate(input_list):\n",
    "        for item in sublist:\n",
    "            if item in index_dict:\n",
    "                index_dict[item].append(index)\n",
    "            else:\n",
    "                index_dict[item] = [index]\n",
    "    \n",
    "    return index_dict"
   ]
  },
  {
   "cell_type": "code",
   "execution_count": 62,
   "id": "9a5c30d1",
   "metadata": {},
   "outputs": [],
   "source": [
    "def map_syntactic_distance(df):\n",
    "    new_map = {}\n",
    "    mp = df[\"token_map_dict\"]\n",
    "    dist = df[\"syntactic_distance_idx\"]\n",
    "    for t0, t1 in dist:\n",
    "        new_pair = []\n",
    "        if t0 in mp:\n",
    "            new_pair.append(mp[t0])\n",
    "        if t1 in mp:\n",
    "            new_pair.append(mp[t1])\n",
    "        new_map[tuple(map(tuple, new_pair))] = dist[(t0, t1)]\n",
    "        \n",
    "    return new_map"
   ]
  },
  {
   "cell_type": "code",
   "execution_count": 58,
   "id": "5a8df529",
   "metadata": {},
   "outputs": [],
   "source": [
    "df['token_map_dict'] = df['token_map'].apply(lambda x: list_to_index_dict(x))"
   ]
  },
  {
   "cell_type": "code",
   "execution_count": null,
   "id": "07ead5e9",
   "metadata": {},
   "outputs": [],
   "source": [
    "df[\"syntactic_distance_idx_mapped\"] = df.apply(lambda x: map_syntactic_distance(x), axis=1)"
   ]
  },
  {
   "cell_type": "code",
   "execution_count": 52,
   "id": "a3951996",
   "metadata": {},
   "outputs": [
    {
     "data": {
      "text/plain": [
       "2"
      ]
     },
     "execution_count": 52,
     "metadata": {},
     "output_type": "execute_result"
    }
   ],
   "source": [
    "df['syntactic_distance_idx'].iloc[0][(0,1)]"
   ]
  },
  {
   "cell_type": "code",
   "execution_count": 38,
   "id": "ea3c873f",
   "metadata": {},
   "outputs": [
    {
     "data": {
      "text/html": [
       "<div>\n",
       "<style scoped>\n",
       "    .dataframe tbody tr th:only-of-type {\n",
       "        vertical-align: middle;\n",
       "    }\n",
       "\n",
       "    .dataframe tbody tr th {\n",
       "        vertical-align: top;\n",
       "    }\n",
       "\n",
       "    .dataframe thead th {\n",
       "        text-align: right;\n",
       "    }\n",
       "</style>\n",
       "<table border=\"1\" class=\"dataframe\">\n",
       "  <thead>\n",
       "    <tr style=\"text-align: right;\">\n",
       "      <th></th>\n",
       "      <th>sentence</th>\n",
       "      <th>d</th>\n",
       "      <th>toks</th>\n",
       "      <th>tags</th>\n",
       "      <th>_</th>\n",
       "      <th>~</th>\n",
       "      <th>lemmas</th>\n",
       "      <th>tokens</th>\n",
       "      <th>sent</th>\n",
       "      <th>syntactic_distance_tok</th>\n",
       "      <th>syntactic_distance_idx</th>\n",
       "      <th>bpe_tokens</th>\n",
       "      <th>token_map</th>\n",
       "      <th>token_map_dict</th>\n",
       "    </tr>\n",
       "  </thead>\n",
       "  <tbody>\n",
       "    <tr>\n",
       "      <th>0</th>\n",
       "      <td>= Robert_Boulter =</td>\n",
       "      <td>{'toks': [['=', 'VERB'], ['Robert', 'PROPN'], ...</td>\n",
       "      <td>[[=, VERB], [Robert, PROPN], [Boulter, PROPN],...</td>\n",
       "      <td>[O, B-GROUP, Ī, O]</td>\n",
       "      <td>[[2, 3]]</td>\n",
       "      <td>[]</td>\n",
       "      <td>[=, robert, boulter, =]</td>\n",
       "      <td>[=, Robert, Boulter, =]</td>\n",
       "      <td>= Robert Boulter =</td>\n",
       "      <td>{(=, Robert): 2, (=, Boulter): 1, (=, =): 1, (...</td>\n",
       "      <td>{(0, 1): 2, (0, 2): 1, (0, 3): 1, (1, 2): 1, (...</td>\n",
       "      <td>[=, ĠRobert, ĠB, oul, ter, Ġ=]</td>\n",
       "      <td>[[0], [1], [2], [2], [2], [3]]</td>\n",
       "      <td>{0: [0], 1: [1], 2: [2, 3, 4], 3: [5]}</td>\n",
       "    </tr>\n",
       "    <tr>\n",
       "      <th>1</th>\n",
       "      <td>Robert_Boulter is an English film , television...</td>\n",
       "      <td>{'toks': [['Robert', 'PROPN'], ['Boulter', 'PR...</td>\n",
       "      <td>[[Robert, PROPN], [Boulter, PROPN], [is, AUX],...</td>\n",
       "      <td>[B-PERSON, Ī, O, O, O, O, O, O, O, O, O, O]</td>\n",
       "      <td>[[1, 2]]</td>\n",
       "      <td>[]</td>\n",
       "      <td>[robert, boulter, be, an, english, film, ,, te...</td>\n",
       "      <td>[Robert, Boulter, is, an, English, film, ,, te...</td>\n",
       "      <td>Robert Boulter is an English film , television...</td>\n",
       "      <td>{(Robert, Boulter): 1, (Robert, is): 2, (Rober...</td>\n",
       "      <td>{(0, 1): 1, (0, 2): 2, (0, 3): 4, (0, 4): 4, (...</td>\n",
       "      <td>[Robert, ĠB, oul, ter, Ġis, Ġan, ĠEnglish, Ġfi...</td>\n",
       "      <td>[[0], [1], [1], [1], [2], [3], [4], [5], [6], ...</td>\n",
       "      <td>{0: [0], 1: [1, 2, 3], 2: [4], 3: [5], 4: [6],...</td>\n",
       "    </tr>\n",
       "    <tr>\n",
       "      <th>2</th>\n",
       "      <td>He had a guest @-@ starring role on the televi...</td>\n",
       "      <td>{'toks': [['He', 'PRON'], ['had', 'VERB'], ['a...</td>\n",
       "      <td>[[He, PRON], [had, VERB], [a, DET], [guest, NO...</td>\n",
       "      <td>[O, O, O, O, O, O, O, O, O, B, Ī, O, O, O, O, O]</td>\n",
       "      <td>[[10, 11]]</td>\n",
       "      <td>[]</td>\n",
       "      <td>[he, have, a, guest, @-@, star, role, on, the,...</td>\n",
       "      <td>[He, had, a, guest, @-@, starring, role, on, t...</td>\n",
       "      <td>He had a guest @-@ starring role on the televi...</td>\n",
       "      <td>{(He, had): 1, (He, a): 3, (He, guest): 3, (He...</td>\n",
       "      <td>{(0, 1): 1, (0, 2): 3, (0, 3): 3, (0, 4): 2, (...</td>\n",
       "      <td>[He, Ġhad, Ġa, Ġguest, Ġ@, -, @, Ġstarring, Ġr...</td>\n",
       "      <td>[[0], [1], [2], [3], [4], [4], [4], [5], [6], ...</td>\n",
       "      <td>{0: [0], 1: [1], 2: [2], 3: [3], 4: [4, 5, 6],...</td>\n",
       "    </tr>\n",
       "    <tr>\n",
       "      <th>3</th>\n",
       "      <td>This was followed by a starring role in the pl...</td>\n",
       "      <td>{'toks': [['This', 'PRON'], ['was', 'AUX'], ['...</td>\n",
       "      <td>[[This, PRON], [was, AUX], [followed, VERB], [...</td>\n",
       "      <td>[O, O, O, O, O, O, O, O, O, O, O, O, O, B-GROU...</td>\n",
       "      <td>[[14, 15], [24, 25]]</td>\n",
       "      <td>[]</td>\n",
       "      <td>[this, wa, follow, by, a, star, role, in, the,...</td>\n",
       "      <td>[This, was, followed, by, a, starring, role, i...</td>\n",
       "      <td>This was followed by a starring role in the pl...</td>\n",
       "      <td>{(This, was): 2, (This, followed): 1, (This, b...</td>\n",
       "      <td>{(0, 1): 2, (0, 2): 1, (0, 3): 2, (0, 4): 4, (...</td>\n",
       "      <td>[This, Ġwas, Ġfollowed, Ġby, Ġa, Ġstarring, Ġr...</td>\n",
       "      <td>[[0], [1], [2], [3], [4], [5], [6], [7], [8], ...</td>\n",
       "      <td>{0: [0], 1: [1], 2: [2], 3: [3], 4: [4], 5: [5...</td>\n",
       "    </tr>\n",
       "    <tr>\n",
       "      <th>4</th>\n",
       "      <td>He had a guest role in the television_series J...</td>\n",
       "      <td>{'toks': [['He', 'PRON'], ['had', 'VERB'], ['a...</td>\n",
       "      <td>[[He, PRON], [had, VERB], [a, DET], [guest, AD...</td>\n",
       "      <td>[O, O, O, O, O, O, O, B-COMMUNICATION, Ī, O, B...</td>\n",
       "      <td>[[8, 9], [11, 12]]</td>\n",
       "      <td>[]</td>\n",
       "      <td>[he, have, a, guest, role, in, the, television...</td>\n",
       "      <td>[He, had, a, guest, role, in, the, television,...</td>\n",
       "      <td>He had a guest role in the television series J...</td>\n",
       "      <td>{(He, had): 1, (He, a): 3, (He, guest): 3, (He...</td>\n",
       "      <td>{(0, 1): 1, (0, 2): 3, (0, 3): 3, (0, 4): 2, (...</td>\n",
       "      <td>[He, Ġhad, Ġa, Ġguest, Ġrole, Ġin, Ġthe, Ġtele...</td>\n",
       "      <td>[[0], [1], [2], [3], [4], [5], [6], [7], [8], ...</td>\n",
       "      <td>{0: [0], 1: [1], 2: [2], 3: [3], 4: [4], 5: [5...</td>\n",
       "    </tr>\n",
       "  </tbody>\n",
       "</table>\n",
       "</div>"
      ],
      "text/plain": [
       "                                            sentence  \\\n",
       "0                                 = Robert_Boulter =   \n",
       "1  Robert_Boulter is an English film , television...   \n",
       "2  He had a guest @-@ starring role on the televi...   \n",
       "3  This was followed by a starring role in the pl...   \n",
       "4  He had a guest role in the television_series J...   \n",
       "\n",
       "                                                   d  \\\n",
       "0  {'toks': [['=', 'VERB'], ['Robert', 'PROPN'], ...   \n",
       "1  {'toks': [['Robert', 'PROPN'], ['Boulter', 'PR...   \n",
       "2  {'toks': [['He', 'PRON'], ['had', 'VERB'], ['a...   \n",
       "3  {'toks': [['This', 'PRON'], ['was', 'AUX'], ['...   \n",
       "4  {'toks': [['He', 'PRON'], ['had', 'VERB'], ['a...   \n",
       "\n",
       "                                                toks  \\\n",
       "0  [[=, VERB], [Robert, PROPN], [Boulter, PROPN],...   \n",
       "1  [[Robert, PROPN], [Boulter, PROPN], [is, AUX],...   \n",
       "2  [[He, PRON], [had, VERB], [a, DET], [guest, NO...   \n",
       "3  [[This, PRON], [was, AUX], [followed, VERB], [...   \n",
       "4  [[He, PRON], [had, VERB], [a, DET], [guest, AD...   \n",
       "\n",
       "                                                tags                     _  \\\n",
       "0                                 [O, B-GROUP, Ī, O]              [[2, 3]]   \n",
       "1        [B-PERSON, Ī, O, O, O, O, O, O, O, O, O, O]              [[1, 2]]   \n",
       "2   [O, O, O, O, O, O, O, O, O, B, Ī, O, O, O, O, O]            [[10, 11]]   \n",
       "3  [O, O, O, O, O, O, O, O, O, O, O, O, O, B-GROU...  [[14, 15], [24, 25]]   \n",
       "4  [O, O, O, O, O, O, O, B-COMMUNICATION, Ī, O, B...    [[8, 9], [11, 12]]   \n",
       "\n",
       "    ~                                             lemmas  \\\n",
       "0  []                            [=, robert, boulter, =]   \n",
       "1  []  [robert, boulter, be, an, english, film, ,, te...   \n",
       "2  []  [he, have, a, guest, @-@, star, role, on, the,...   \n",
       "3  []  [this, wa, follow, by, a, star, role, in, the,...   \n",
       "4  []  [he, have, a, guest, role, in, the, television...   \n",
       "\n",
       "                                              tokens  \\\n",
       "0                            [=, Robert, Boulter, =]   \n",
       "1  [Robert, Boulter, is, an, English, film, ,, te...   \n",
       "2  [He, had, a, guest, @-@, starring, role, on, t...   \n",
       "3  [This, was, followed, by, a, starring, role, i...   \n",
       "4  [He, had, a, guest, role, in, the, television,...   \n",
       "\n",
       "                                                sent  \\\n",
       "0                                 = Robert Boulter =   \n",
       "1  Robert Boulter is an English film , television...   \n",
       "2  He had a guest @-@ starring role on the televi...   \n",
       "3  This was followed by a starring role in the pl...   \n",
       "4  He had a guest role in the television series J...   \n",
       "\n",
       "                              syntactic_distance_tok  \\\n",
       "0  {(=, Robert): 2, (=, Boulter): 1, (=, =): 1, (...   \n",
       "1  {(Robert, Boulter): 1, (Robert, is): 2, (Rober...   \n",
       "2  {(He, had): 1, (He, a): 3, (He, guest): 3, (He...   \n",
       "3  {(This, was): 2, (This, followed): 1, (This, b...   \n",
       "4  {(He, had): 1, (He, a): 3, (He, guest): 3, (He...   \n",
       "\n",
       "                              syntactic_distance_idx  \\\n",
       "0  {(0, 1): 2, (0, 2): 1, (0, 3): 1, (1, 2): 1, (...   \n",
       "1  {(0, 1): 1, (0, 2): 2, (0, 3): 4, (0, 4): 4, (...   \n",
       "2  {(0, 1): 1, (0, 2): 3, (0, 3): 3, (0, 4): 2, (...   \n",
       "3  {(0, 1): 2, (0, 2): 1, (0, 3): 2, (0, 4): 4, (...   \n",
       "4  {(0, 1): 1, (0, 2): 3, (0, 3): 3, (0, 4): 2, (...   \n",
       "\n",
       "                                          bpe_tokens  \\\n",
       "0                     [=, ĠRobert, ĠB, oul, ter, Ġ=]   \n",
       "1  [Robert, ĠB, oul, ter, Ġis, Ġan, ĠEnglish, Ġfi...   \n",
       "2  [He, Ġhad, Ġa, Ġguest, Ġ@, -, @, Ġstarring, Ġr...   \n",
       "3  [This, Ġwas, Ġfollowed, Ġby, Ġa, Ġstarring, Ġr...   \n",
       "4  [He, Ġhad, Ġa, Ġguest, Ġrole, Ġin, Ġthe, Ġtele...   \n",
       "\n",
       "                                           token_map  \\\n",
       "0                     [[0], [1], [2], [2], [2], [3]]   \n",
       "1  [[0], [1], [1], [1], [2], [3], [4], [5], [6], ...   \n",
       "2  [[0], [1], [2], [3], [4], [4], [4], [5], [6], ...   \n",
       "3  [[0], [1], [2], [3], [4], [5], [6], [7], [8], ...   \n",
       "4  [[0], [1], [2], [3], [4], [5], [6], [7], [8], ...   \n",
       "\n",
       "                                      token_map_dict  \n",
       "0             {0: [0], 1: [1], 2: [2, 3, 4], 3: [5]}  \n",
       "1  {0: [0], 1: [1, 2, 3], 2: [4], 3: [5], 4: [6],...  \n",
       "2  {0: [0], 1: [1], 2: [2], 3: [3], 4: [4, 5, 6],...  \n",
       "3  {0: [0], 1: [1], 2: [2], 3: [3], 4: [4], 5: [5...  \n",
       "4  {0: [0], 1: [1], 2: [2], 3: [3], 4: [4], 5: [5...  "
      ]
     },
     "execution_count": 38,
     "metadata": {},
     "output_type": "execute_result"
    }
   ],
   "source": [
    "df.head()"
   ]
  },
  {
   "cell_type": "code",
   "execution_count": 54,
   "id": "e1d82f77",
   "metadata": {},
   "outputs": [],
   "source": [
    "def map_weak_mwes_together(x):\n",
    "    \n",
    "    mapped_mwes = []\n",
    "    for j, mwe in enumerate(x['_']):\n",
    "        mapped_mwes.append([])\n",
    "        for index in mwe:\n",
    "            if index-1 in x['token_map_dict']:\n",
    "                for val in x['token_map_dict'][index-1]:\n",
    "                    mapped_mwes[j].append(val+1)\n",
    "                \n",
    "                \n",
    "    return mapped_mwes\n",
    "                   \n",
    "    \n",
    "def map_strong_mwes_together(x):\n",
    "    \n",
    "    mapped_mwes = []\n",
    "    for j, mwe in enumerate(x['~']):\n",
    "        mapped_mwes.append([])\n",
    "        for index in mwe:\n",
    "            \n",
    "            if index-1 in x['token_map_dict']:\n",
    "                for val in x['token_map_dict'][index-1]:\n",
    "                    mapped_mwes[j].append(val+1)\n",
    "                \n",
    "                \n",
    "    return mapped_mwes\n",
    "                    "
   ]
  },
  {
   "cell_type": "code",
   "execution_count": 23,
   "id": "28613400",
   "metadata": {},
   "outputs": [],
   "source": [
    "df['weak_mwe'] = df.apply(lambda x: map_weak_mwes_together(x),axis=1)\n",
    "df['strong_mwe'] = df.apply(lambda x: map_strong_mwes_together(x),axis=1)"
   ]
  },
  {
   "cell_type": "code",
   "execution_count": null,
   "id": "d0e1ac88",
   "metadata": {},
   "outputs": [],
   "source": []
  }
 ],
 "metadata": {
  "kernelspec": {
   "display_name": "shapleyres",
   "language": "python",
   "name": "shapleyres"
  },
  "language_info": {
   "codemirror_mode": {
    "name": "ipython",
    "version": 3
   },
   "file_extension": ".py",
   "mimetype": "text/x-python",
   "name": "python",
   "nbconvert_exporter": "python",
   "pygments_lexer": "ipython3",
   "version": "3.11.4"
  }
 },
 "nbformat": 4,
 "nbformat_minor": 5
}
